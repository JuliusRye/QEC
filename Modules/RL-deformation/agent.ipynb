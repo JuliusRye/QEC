{
 "cells": [
  {
   "cell_type": "code",
   "execution_count": 1,
   "metadata": {},
   "outputs": [],
   "source": [
    "# Allows us to import files from the parent folder\n",
    "import sys\n",
    "import os\n",
    "# Get the parent directory of the notebook's folder\n",
    "base_dir = os.path.abspath(os.path.join(os.getcwd(), os.pardir))\n",
    "sys.path.append(base_dir)\n",
    "\n",
    "from neural_network import CNNPure\n",
    "from agent import DQN\n",
    "from deformation_handler import DeformationManager\n",
    "\n",
    "from jax import random, lax\n",
    "import jax.numpy as jnp\n",
    "\n",
    "key = random.key(42)"
   ]
  },
  {
   "cell_type": "code",
   "execution_count": 2,
   "metadata": {},
   "outputs": [],
   "source": [
    "CONV_LAYERS = [(6,3,1,1) for _ in range(5)] # 5 Layers of convolution\n",
    "\n",
    "CODE_DISTANCE = 3"
   ]
  },
  {
   "cell_type": "code",
   "execution_count": 3,
   "metadata": {},
   "outputs": [
    {
     "name": "stdout",
     "output_type": "stream",
     "text": [
      "Input image of size 3 by 3 with 6 channels\n",
      "to image of size 3 by 3 with 6 channels\n",
      "to image of size 3 by 3 with 6 channels\n",
      "to image of size 3 by 3 with 6 channels\n",
      "to image of size 3 by 3 with 6 channels\n",
      "to image of size 3 by 3 with 6 channels\n"
     ]
    }
   ],
   "source": [
    "dm = DeformationManager(jnp.arange(6), CODE_DISTANCE)\n",
    "\n",
    "model = CNNPure(\n",
    "    input_shape=(6,CODE_DISTANCE,CODE_DISTANCE),\n",
    "    conv_layers=CONV_LAYERS\n",
    ")\n",
    "online_net_params = model.init(key)\n",
    "\n",
    "agent = DQN(\n",
    "    model=model,\n",
    "    discount=.8,\n",
    "    n_actions=6*CODE_DISTANCE*CODE_DISTANCE\n",
    ")"
   ]
  },
  {
   "cell_type": "code",
   "execution_count": 4,
   "metadata": {},
   "outputs": [
    {
     "name": "stdout",
     "output_type": "stream",
     "text": [
      "[0 0 0 0 0 0 0 0 0] -> 49 = deformation 5 on data qubit 4\n",
      "[0 0 0 0 5 0 0 0 0] -> 48 = deformation 5 on data qubit 3\n",
      "[0 0 0 5 5 0 0 0 0] -> 44 = deformation 4 on data qubit 8\n",
      "[0 0 0 5 5 0 0 0 4] -> 51 = deformation 5 on data qubit 6\n",
      "[0 0 0 5 5 0 5 0 4] -> 45 = deformation 5 on data qubit 0\n",
      "[5 0 0 5 5 0 5 0 4] -> 52 = deformation 5 on data qubit 7\n",
      "[5 0 0 5 5 0 5 5 4] -> 7 = deformation 0 on data qubit 7\n",
      "[5 0 0 5 5 0 5 0 4] -> 52 = deformation 5 on data qubit 7\n",
      "[5 0 0 5 5 0 5 5 4] -> 7 = deformation 0 on data qubit 7\n",
      "[5 0 0 5 5 0 5 0 4] -> 52 = deformation 5 on data qubit 7\n"
     ]
    }
   ],
   "source": [
    "deformation = jnp.zeros(CODE_DISTANCE**2, dtype=jnp.int32)\n",
    "key = random.key(42)\n",
    "\n",
    "for _ in range(10):\n",
    "    img = dm.deformation_image(deformation)\n",
    "    action, done, key = agent.act(\n",
    "        key,\n",
    "        online_net_params,\n",
    "        img,\n",
    "        disallowed_actions = jnp.zeros(agent.n_actions).at[CODE_DISTANCE**2*deformation + jnp.arange(CODE_DISTANCE**2)].set(True),\n",
    "        epsilon = 0\n",
    "    )\n",
    "    d_idx, q_idx = jnp.unravel_index(action, (6,CODE_DISTANCE*CODE_DISTANCE))\n",
    "    print(deformation, \"->\", action, \"=\", f\"deformation {d_idx} on data qubit {q_idx}\")\n",
    "    deformation = deformation.at[q_idx].set(d_idx)"
   ]
  }
 ],
 "metadata": {
  "kernelspec": {
   "display_name": "Thesis",
   "language": "python",
   "name": "python3"
  },
  "language_info": {
   "codemirror_mode": {
    "name": "ipython",
    "version": 3
   },
   "file_extension": ".py",
   "mimetype": "text/x-python",
   "name": "python",
   "nbconvert_exporter": "python",
   "pygments_lexer": "ipython3",
   "version": "3.13.2"
  }
 },
 "nbformat": 4,
 "nbformat_minor": 2
}
