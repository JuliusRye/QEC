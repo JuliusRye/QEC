{
 "cells": [
  {
   "cell_type": "code",
   "execution_count": 1,
   "metadata": {},
   "outputs": [],
   "source": [
    "from neural_network import MLP, CNN, CNNDual\n",
    "from jax import random\n",
    "import jax.numpy as jnp\n",
    "from icecream import ic\n",
    "\n",
    "key = random.key(42)"
   ]
  },
  {
   "cell_type": "markdown",
   "metadata": {},
   "source": [
    "# Multi Level Perceptron (MLP)"
   ]
  },
  {
   "cell_type": "code",
   "execution_count": 2,
   "metadata": {},
   "outputs": [
    {
     "name": "stdout",
     "output_type": "stream",
     "text": [
      "[4, 6, 4, 5]\n"
     ]
    },
    {
     "data": {
      "text/plain": [
       "Array([[ 1.7111232 ,  3.373485  ,  0.6726889 , -0.26877403,  0.1448667 ],\n",
       "       [ 1.7924013 ,  3.6350818 ,  0.7425479 , -0.36859792,  0.00809073]],      dtype=float32)"
      ]
     },
     "execution_count": 2,
     "metadata": {},
     "output_type": "execute_result"
    }
   ],
   "source": [
    "model = MLP(layer_sizes=[4,6,4,5])\n",
    "print(model.layer_sizes)\n",
    "\n",
    "subkey, key = random.split(key)\n",
    "params = model.init(subkey)\n",
    "\n",
    "model.apply_single(params, jnp.array([2.2,5.1,1.6,6.2]))\n",
    "model.apply_batch(params, jnp.array([[2.2,5.1,1.6,6.2],[2.2,5.5,1.6,6.2]]))"
   ]
  },
  {
   "cell_type": "markdown",
   "metadata": {},
   "source": [
    "# Convolutional Neural Netwrok (CNN)"
   ]
  },
  {
   "cell_type": "code",
   "execution_count": 3,
   "metadata": {},
   "outputs": [],
   "source": [
    "import matplotlib.pyplot as plt\n",
    "\n",
    "def show_img(\n",
    "    img: jnp.ndarray, # shape = (num_filters, in_channels, kernel_size, kernel_size)\n",
    "):\n",
    "    batch_size, channels, kernel_height, kernel_width = img.shape\n",
    "    fig, ax = plt.subplots(nrows=batch_size, ncols=channels, sharex=True, sharey=True)\n",
    "    if batch_size == 1:\n",
    "        ax = [ax]\n",
    "    if channels == 1:\n",
    "        ax = [[a] for a in ax]\n",
    "    for row in range(batch_size):\n",
    "        ax[row][0].set_ylabel(f\"Batch {row}\")\n",
    "        for col in range(channels):\n",
    "            m = ax[row][col].imshow(img[row,col])\n",
    "            ax[row][col].set_xlabel(f\"Channel {col}\")\n",
    "    plt.show()"
   ]
  },
  {
   "cell_type": "code",
   "execution_count": 4,
   "metadata": {},
   "outputs": [
    {
     "name": "stdout",
     "output_type": "stream",
     "text": [
      "[(3, 5, 5), (1, 4, 4)]\n"
     ]
    },
    {
     "data": {
      "image/png": "[encoded data removed]",
      "text/plain": [
       "<Figure size 640x480 with 6 Axes>"
      ]
     },
     "metadata": {},
     "output_type": "display_data"
    },
    {
     "data": {
      "image/png": "[encoded data removed]",
      "text/plain": [
       "<Figure size 640x480 with 2 Axes>"
      ]
     },
     "metadata": {},
     "output_type": "display_data"
    }
   ],
   "source": [
    "model = CNN(input_shape=(3,5,5), conv_layers=[(1,3,2,2)])\n",
    "print(model.layer_sizes)\n",
    "\n",
    "subkey, key = random.split(key)\n",
    "params = model.init(subkey)\n",
    "\n",
    "batch_size = 2\n",
    "channels = 3\n",
    "img = random.uniform(subkey, shape=(batch_size, channels, 5, 5))\n",
    "show_img(img)\n",
    "\n",
    "show_img(model.apply_batch(params, img))"
   ]
  },
  {
   "cell_type": "markdown",
   "metadata": {},
   "source": [
    "# Dual input Convolutional network"
   ]
  },
  {
   "cell_type": "code",
   "execution_count": 7,
   "metadata": {},
   "outputs": [
    {
     "name": "stdout",
     "output_type": "stream",
     "text": [
      "CNN_input_1 [(1, 4, 4), (5, 3, 3)]\n",
      "CNN_input_2 [(6, 3, 3), (5, 3, 3)]\n",
      "CNN_stage_2 [(5, 3, 3), (10, 2, 2)]\n",
      "MLP_stage_3 [40, 25, 5]\n"
     ]
    }
   ],
   "source": [
    "model = CNNDual(\n",
    "    input_shape_1=(1,4,4),\n",
    "    input_shape_2=(6,3,3),\n",
    "    conv_layers_input_1 = [(5,2,1,0)],\n",
    "    conv_layers_input_2 = [(5,1,1,0)],\n",
    "    conv_layers_stage_2 = [(10,2,1,0)],\n",
    "    fc_layers=[25, 5]\n",
    ")\n",
    "for name, layer_sizes in model.layer_sizes.items():\n",
    "    print(name, layer_sizes)\n",
    "params = model.init(key)"
   ]
  },
  {
   "cell_type": "code",
   "execution_count": 8,
   "metadata": {},
   "outputs": [
    {
     "name": "stdout",
     "output_type": "stream",
     "text": [
      "(5,)\n",
      "(2, 5)\n"
     ]
    }
   ],
   "source": [
    "batch_size = 2\n",
    "\n",
    "prim_key, seco_key, key = random.split(key, 3)\n",
    "img_prim = random.uniform(prim_key, shape=(batch_size, 1, 4, 4))\n",
    "img_seco = random.uniform(seco_key, shape=(1, 6, 3, 3))\n",
    "\n",
    "print(model.apply_single(params, img_prim[0], img_seco[0]).shape)\n",
    "print(model.apply_batch(params, img_prim, img_seco).shape)"
   ]
  }
 ],
 "metadata": {
  "kernelspec": {
   "display_name": "Thesis",
   "language": "python",
   "name": "python3"
  },
  "language_info": {
   "codemirror_mode": {
    "name": "ipython",
    "version": 3
   },
   "file_extension": ".py",
   "mimetype": "text/x-python",
   "name": "python",
   "nbconvert_exporter": "python",
   "pygments_lexer": "ipython3",
   "version": "3.13.2"
  }
 },
 "nbformat": 4,
 "nbformat_minor": 2
}
