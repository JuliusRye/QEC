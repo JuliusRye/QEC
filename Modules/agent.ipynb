{
 "cells": [
  {
   "cell_type": "code",
   "execution_count": 1,
   "metadata": {},
   "outputs": [],
   "source": [
    "from neural_network import CNN\n",
    "from quantum_error_correction_code import SurfaceCode\n",
    "from agent import DQN\n",
    "\n",
    "from jax import random, lax\n",
    "import jax.numpy as jnp\n",
    "\n",
    "key = random.key(42)"
   ]
  },
  {
   "cell_type": "code",
   "execution_count": 2,
   "metadata": {},
   "outputs": [],
   "source": [
    "CONV_LAYERS = [(6,3,1,1) for _ in range(5)] # 5 Layers of convolution\n",
    "\n",
    "CODE_DISTANCE = 5"
   ]
  },
  {
   "cell_type": "code",
   "execution_count": 3,
   "metadata": {},
   "outputs": [
    {
     "name": "stdout",
     "output_type": "stream",
     "text": [
      "[(6, 5, 5), (6, 5, 5), (6, 5, 5), (6, 5, 5), (6, 5, 5), (6, 5, 5)]\n"
     ]
    }
   ],
   "source": [
    "code = SurfaceCode(CODE_DISTANCE)\n",
    "\n",
    "model = CNN(\n",
    "    input_shape=(6,CODE_DISTANCE,CODE_DISTANCE),\n",
    "    conv_layers=CONV_LAYERS\n",
    ")\n",
    "print(model.layer_sizes)\n",
    "\n",
    "agent = DQN(\n",
    "    model=model,\n",
    "    discount=.8,\n",
    "    num_data_qubits=code.num_data_qubits\n",
    ")"
   ]
  },
  {
   "cell_type": "code",
   "execution_count": 7,
   "metadata": {},
   "outputs": [
    {
     "name": "stdout",
     "output_type": "stream",
     "text": [
      "86\n",
      "3 11\n",
      "86\n"
     ]
    }
   ],
   "source": [
    "action = jnp.zeros((6,CODE_DISTANCE,CODE_DISTANCE)).at[3,2,1].set(1).argmax()\n",
    "print(action)\n",
    "deformation_action_idx, data_qubit_action_idx = agent.split_action(action)\n",
    "print(deformation_action_idx, data_qubit_action_idx)\n",
    "action_ = agent.merge_action(deformation_action_idx, data_qubit_action_idx)\n",
    "print(action_)\n",
    "assert action == action_"
   ]
  },
  {
   "cell_type": "code",
   "execution_count": 5,
   "metadata": {},
   "outputs": [
    {
     "data": {
      "text/plain": [
       "Array(11, dtype=int32)"
      ]
     },
     "execution_count": 5,
     "metadata": {},
     "output_type": "execute_result"
    }
   ],
   "source": [
    "deformation = jnp.zeros(CODE_DISTANCE**2, dtype=jnp.int32)\n",
    "agent.merge_action(\n",
    "    deformation_action_idx=deformation[data_qubit_action_idx],\n",
    "    data_qubit_action_idx=data_qubit_action_idx\n",
    ")"
   ]
  },
  {
   "cell_type": "code",
   "execution_count": 6,
   "metadata": {},
   "outputs": [
    {
     "name": "stdout",
     "output_type": "stream",
     "text": [
      "[0 0 0 0 0 0 0 0 0 0 0 0 0 0 0 0 0 0 0 0 0 0 0 0 0] -> 62 = deformation 2 on data qubit 12\n",
      "[0 0 0 0 0 0 0 0 0 0 0 0 2 0 0 0 0 0 0 0 0 0 0 0 0] -> 67 = deformation 2 on data qubit 17\n",
      "[0 0 0 0 0 0 0 0 0 0 0 0 2 0 0 0 0 2 0 0 0 0 0 0 0] -> 72 = deformation 2 on data qubit 22\n",
      "[0 0 0 0 0 0 0 0 0 0 0 0 2 0 0 0 0 2 0 0 0 0 2 0 0] -> 68 = deformation 2 on data qubit 18\n",
      "[0 0 0 0 0 0 0 0 0 0 0 0 2 0 0 0 0 2 2 0 0 0 2 0 0] -> 38 = deformation 1 on data qubit 13\n",
      "[0 0 0 0 0 0 0 0 0 0 0 0 2 1 0 0 0 2 2 0 0 0 2 0 0] -> 66 = deformation 2 on data qubit 16\n",
      "[0 0 0 0 0 0 0 0 0 0 0 0 2 1 0 0 2 2 2 0 0 0 2 0 0] -> 63 = deformation 2 on data qubit 13\n",
      "[0 0 0 0 0 0 0 0 0 0 0 0 2 2 0 0 2 2 2 0 0 0 2 0 0] -> 38 = deformation 1 on data qubit 13\n",
      "[0 0 0 0 0 0 0 0 0 0 0 0 2 1 0 0 2 2 2 0 0 0 2 0 0] -> 63 = deformation 2 on data qubit 13\n",
      "[0 0 0 0 0 0 0 0 0 0 0 0 2 2 0 0 2 2 2 0 0 0 2 0 0] -> 38 = deformation 1 on data qubit 13\n"
     ]
    }
   ],
   "source": [
    "subkey, key = random.split(key)\n",
    "online_net_params = model.init(subkey)\n",
    "\n",
    "deformation = jnp.zeros(CODE_DISTANCE**2, dtype=jnp.int32)\n",
    "\n",
    "for _ in range(10):\n",
    "    img = code.deformation_image(deformation)\n",
    "    action, done, key = agent.act(\n",
    "        key,\n",
    "        online_net_params,\n",
    "        img,\n",
    "        disallowed_actions = jnp.zeros(6*CODE_DISTANCE**2).at[CODE_DISTANCE**2*deformation + jnp.arange(CODE_DISTANCE**2)].set(True),\n",
    "        epsilon = 0\n",
    "    )\n",
    "    d_idx, q_idx = agent.split_action(action)\n",
    "    print(deformation, \"->\", action, \"=\", f\"deformation {d_idx} on data qubit {q_idx}\")\n",
    "    deformation = deformation.at[q_idx].set(d_idx)"
   ]
  }
 ],
 "metadata": {
  "kernelspec": {
   "display_name": "Thesis",
   "language": "python",
   "name": "python3"
  },
  "language_info": {
   "codemirror_mode": {
    "name": "ipython",
    "version": 3
   },
   "file_extension": ".py",
   "mimetype": "text/x-python",
   "name": "python",
   "nbconvert_exporter": "python",
   "pygments_lexer": "ipython3",
   "version": "3.13.2"
  }
 },
 "nbformat": 4,
 "nbformat_minor": 2
}
