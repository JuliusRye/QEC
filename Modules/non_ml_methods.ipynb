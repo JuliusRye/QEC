{
 "cells": [
  {
   "cell_type": "code",
   "execution_count": 1,
   "id": "b950e9af",
   "metadata": {},
   "outputs": [],
   "source": [
    "import sys, os\n",
    "sys.path.append(os.path.abspath(\n",
    "    os.getcwd()+\"/core\")\n",
    ")"
   ]
  },
  {
   "cell_type": "code",
   "execution_count": 19,
   "id": "a4a86a0b",
   "metadata": {},
   "outputs": [],
   "source": [
    "from core.quantum_error_correction_code import SurfaceCode, QEC\n",
    "from core.neural_network import CNNDual, load_params\n",
    "from core.evaluate_decoder import evaluate_mcnn_decoder, evaluate_pml_decoder\n",
    "\n",
    "from jax import random\n",
    "import jax.numpy as jnp\n",
    "import json\n",
    "\n",
    "key = random.key(42)"
   ]
  },
  {
   "cell_type": "code",
   "execution_count": 3,
   "id": "e74874b1",
   "metadata": {},
   "outputs": [
    {
     "data": {
      "image/png": "[encoded data removed]",
      "text/plain": [
       "<Figure size 640x480 with 1 Axes>"
      ]
     },
     "metadata": {},
     "output_type": "display_data"
    }
   ],
   "source": [
    "code = SurfaceCode(3)\n",
    "\n",
    "deformation, key = code.random_deformation(key, jnp.zeros(code.num_data_qubits, dtype=jnp.int32))\n",
    "\n",
    "parity_info = code.deformation_parity_info(deformation)\n",
    "\n",
    "code.show(parity_info)"
   ]
  },
  {
   "cell_type": "code",
   "execution_count": 4,
   "id": "f481c05e",
   "metadata": {},
   "outputs": [
    {
     "data": {
      "text/plain": [
       "{'CNN_input_1': [(1, 4, 4), (8, 3, 3)],\n",
       " 'CNN_input_2': [(1, 3, 3), (8, 3, 3)],\n",
       " 'CNN_stage_2': [(8, 3, 3), (8, 2, 2)],\n",
       " 'MLP_stage_3': [32, 50, 2]}"
      ]
     },
     "execution_count": 4,
     "metadata": {},
     "output_type": "execute_result"
    }
   ],
   "source": [
    "settings, model_params = load_params(\"data/CNN-G-3.json\")\n",
    "L = settings[\"CODE_DISTANCE\"]\n",
    "error_probs = settings[\"ERROR_PROBS\"]\n",
    "\n",
    "decoder_model = CNNDual(\n",
    "    input_shape_1=(1, L+1, L+1),\n",
    "    input_shape_2=(1, L, L),\n",
    "    conv_layers_input_1=[tuple(int(v) for v in vals) for vals in settings[\"CONV_LAYERS_INPUT_1\"]],\n",
    "    conv_layers_input_2=[tuple(int(v) for v in vals) for vals in settings[\"CONV_LAYERS_INPUT_2\"]],\n",
    "    conv_layers_stage_2=[tuple(int(v) for v in vals) for vals in settings[\"CONV_LAYERS_STAGE_2\"]],\n",
    "    fc_layers=[int(v) for v in settings[\"FC_LAYERS\"]],\n",
    ")\n",
    "decoder_model.layer_sizes"
   ]
  },
  {
   "cell_type": "markdown",
   "id": "155bb15b",
   "metadata": {},
   "source": [
    "# CNN-G decoder"
   ]
  },
  {
   "cell_type": "markdown",
   "id": "460b2bba",
   "metadata": {},
   "source": [
    "## Random search"
   ]
  },
  {
   "cell_type": "code",
   "execution_count": 25,
   "id": "b1683deb",
   "metadata": {},
   "outputs": [],
   "source": [
    "def random_search_cnng(\n",
    "    key,\n",
    "    code: QEC,\n",
    "    N: int,\n",
    "    decoder_model: CNNDual,\n",
    "    model_params: dict,\n",
    "    error_probs: dict,\n",
    "    batch_count: int = 10,\n",
    "    batch_size: int = 1_000_000,\n",
    "):\n",
    "    history = jnp.empty(N, dtype=jnp.float32)\n",
    "    best_deformation = jnp.empty(code.num_data_qubits, dtype=jnp.int32)\n",
    "    best_error_rate = jnp.inf\n",
    "    for i in range(N):\n",
    "        deformation, key = code.random_deformation(key, allowed_deformations=jnp.arange(6))\n",
    "        error_rate, _ = evaluate_mcnn_decoder(\n",
    "            key,\n",
    "            decoder_model,\n",
    "            model_params,\n",
    "            code,\n",
    "            deformation,\n",
    "            batch_count,\n",
    "            batch_size,\n",
    "            error_probs=error_probs,\n",
    "        )\n",
    "        print(f\"Iteration {i+1}/{N} \\t Deformation: {deformation} \\t Error Rate: {error_rate:.2E}\\t\\t\", end=\"\\r\")\n",
    "        if error_rate < best_error_rate:\n",
    "            print(f\"Iteration {i+1}/{N} \\t Deformation: {deformation} \\t Error Rate: {error_rate:.2E}\\t\\t\", end=\"\\n\")\n",
    "            best_error_rate = error_rate\n",
    "            best_deformation = deformation\n",
    "        history = history.at[i].set(best_error_rate)\n",
    "    return best_deformation, best_error_rate, history"
   ]
  },
  {
   "cell_type": "code",
   "execution_count": null,
   "id": "d5d294bb",
   "metadata": {},
   "outputs": [
    {
     "name": "stdout",
     "output_type": "stream",
     "text": [
      "Iteration 1/100 \t Deformation: [2 4 2 1 4 1 0 3 0] \t Error Rate: 3.97E-04\t\t\n",
      "Iteration 2/100 \t Deformation: [4 4 1 1 4 1 2 4 3] \t Error Rate: 3.93E-04\t\t\n",
      "Iteration 3/100 \t Deformation: [4 3 3 5 2 4 4 5 5] \t Error Rate: 1.41E-04\t\t\n",
      "Iteration 7/100 \t Deformation: [5 2 3 3 5 1 3 0 4] \t Error Rate: 1.27E-04\t\t\n",
      "Iteration 60/100 \t Deformation: [4 5 4 3 4 4 2 1 1] \t Error Rate: 1.23E-04\t\t\n",
      "Solution \t\t Deformation: [4 5 4 3 4 4 2 1 1] \t Error Rate: 1.23E-04\t\t47E-04\t\t\n"
     ]
    }
   ],
   "source": [
    "R_deformation_cnng_3, R_ler_cnng_3, R_history_cnng_3 = random_search_cnng(\n",
    "    random.key(42),\n",
    "    code,\n",
    "    N=100,\n",
    "    decoder_model=decoder_model,\n",
    "    model_params=model_params,\n",
    "    error_probs=error_probs,\n",
    "    batch_count=10,\n",
    "    batch_size=1_000_000,\n",
    ")\n",
    "print(f\"Solution \\t\\t Deformation: {R_deformation_cnng_3} \\t Error Rate: {R_ler_cnng_3:.2E}\\t\\t\", end=\"\\n\")"
   ]
  },
  {
   "cell_type": "markdown",
   "id": "45878add",
   "metadata": {},
   "source": [
    "## Hill climb search"
   ]
  },
  {
   "cell_type": "code",
   "execution_count": 26,
   "id": "81012a65",
   "metadata": {},
   "outputs": [],
   "source": [
    "def hill_climb_search_cnng(\n",
    "    key,\n",
    "    code: QEC,\n",
    "    N: int,\n",
    "    decoder_model: CNNDual,\n",
    "    model_params: dict,\n",
    "    error_probs: dict,\n",
    "    batch_count: int = 10,\n",
    "    batch_size: int = 1_000_000,\n",
    "):\n",
    "    history = jnp.empty(N, dtype=jnp.float32)\n",
    "    local_changes = lambda deformation: [\n",
    "        deformation.at[n].set(d) \n",
    "        for n in range(code.num_data_qubits) \n",
    "        for d in range(6) \n",
    "        if deformation[n] != d\n",
    "    ]\n",
    "\n",
    "    best_deformation = jnp.zeros(code.num_data_qubits, dtype=jnp.int32)\n",
    "    best_error_rate, _ = evaluate_mcnn_decoder(\n",
    "        key,\n",
    "        decoder_model,\n",
    "        model_params,\n",
    "        code,\n",
    "        best_deformation,\n",
    "        batch_count,\n",
    "        batch_size,\n",
    "        error_probs=error_probs,\n",
    "    )\n",
    "    deformation_candidates = local_changes(best_deformation)\n",
    "    for i in range(N):\n",
    "        print(f\"Iteration {i+1}/{N}     \", end=\"\\r\")\n",
    "        subkey, key = random.split(key)\n",
    "        idx = random.randint(subkey, 1, minval=0, maxval=len(deformation_candidates))[0]\n",
    "        deformation = deformation_candidates[idx]\n",
    "        error_rate, _ = evaluate_mcnn_decoder(\n",
    "            key,\n",
    "            decoder_model,\n",
    "            model_params,\n",
    "            code,\n",
    "            deformation,\n",
    "            batch_count,\n",
    "            batch_size,\n",
    "            error_probs=error_probs,\n",
    "        )\n",
    "        print(f\"Iteration {i+1}/{N} \\t Deformation: {deformation} \\t Error Rate: {error_rate:.2E}\\t\\t\", end=\"\\r\")\n",
    "        if error_rate < best_error_rate:\n",
    "            print(f\"Iteration {i+1}/{N} \\t Deformation: {deformation} \\t Error Rate: {error_rate:.2E}\\t\\t\", end=\"\\n\")\n",
    "            best_error_rate = error_rate\n",
    "            best_deformation = deformation\n",
    "            deformation_candidates = local_changes(best_deformation)\n",
    "        else:\n",
    "            deformation_candidates.pop(idx)\n",
    "            if len(deformation_candidates) == 0:\n",
    "                print(\"No more candidates, stopping search.\\t\\t\\t\\t\\t\")\n",
    "                history = history.at[i:].set(best_error_rate)\n",
    "                break\n",
    "        history = history.at[i].set(best_error_rate)\n",
    "    return best_deformation, best_error_rate, history"
   ]
  },
  {
   "cell_type": "code",
   "execution_count": null,
   "id": "cd9eff42",
   "metadata": {},
   "outputs": [
    {
     "name": "stdout",
     "output_type": "stream",
     "text": [
      "Iteration 1/100 \t Deformation: [0 0 0 0 0 0 0 4 0] \t Error Rate: 1.32E-03\t\t\n",
      "Iteration 3/100 \t Deformation: [0 0 4 0 0 0 0 4 0] \t Error Rate: 8.72E-04\t\t\n",
      "Iteration 4/100 \t Deformation: [0 0 4 0 0 0 0 3 0] \t Error Rate: 8.47E-04\t\t\n",
      "Iteration 5/100 \t Deformation: [0 0 4 0 0 4 0 3 0] \t Error Rate: 5.81E-04\t\t\n",
      "Iteration 6/100 \t Deformation: [0 0 4 0 0 4 0 3 4] \t Error Rate: 3.95E-04\t\t\n",
      "Iteration 9/100 \t Deformation: [1 0 4 0 0 4 0 3 4] \t Error Rate: 3.93E-04\t\t\n",
      "Iteration 12/100 \t Deformation: [1 0 4 0 0 4 1 3 4] \t Error Rate: 3.89E-04\t\t\n",
      "Iteration 14/100 \t Deformation: [1 0 4 0 0 2 1 3 4] \t Error Rate: 2.40E-04\t\t\n",
      "Iteration 15/100 \t Deformation: [5 0 4 0 0 2 1 3 4] \t Error Rate: 1.42E-04\t\t\n",
      "Iteration 17/100 \t Deformation: [5 0 4 0 0 5 1 3 4] \t Error Rate: 1.37E-04\t\t\n",
      "Iteration 26/100 \t Deformation: [5 0 4 0 2 5 1 3 4] \t Error Rate: 1.15E-04\t\t\n",
      "Iteration 66/100 \t Deformation: [5 0 4 0 2 5 1 1 4] \t Error Rate: 1.11E-04\t\t\n",
      "Iteration 71/100 \t Deformation: [3 0 4 0 2 5 1 1 4] \t Error Rate: 9.73E-05\t\t\n",
      "Iteration 76/100 \t Deformation: [3 0 3 0 2 5 1 1 4] \t Error Rate: 9.32E-05\t\t\n",
      "Solution \t\t Deformation: [3 0 3 0 2 5 1 1 4] \t Error Rate: 9.32E-05\t\t93E-04\t\t\n"
     ]
    }
   ],
   "source": [
    "HC_deformation_cnng_3, HC_ler_cnng_3, HC_history_cnng_3 = hill_climb_search_cnng(\n",
    "    random.key(42),\n",
    "    code,\n",
    "    N=100,\n",
    "    decoder_model=decoder_model,\n",
    "    model_params=model_params,\n",
    "    error_probs=error_probs,\n",
    "    batch_count=10,\n",
    "    batch_size=1_000_000,\n",
    ")\n",
    "print(f\"Solution \\t\\t Deformation: {HC_deformation_cnng_3} \\t Error Rate: {HC_ler_cnng_3:.2E}\\t\\t\", end=\"\\n\")"
   ]
  },
  {
   "cell_type": "markdown",
   "id": "9d3231ba",
   "metadata": {},
   "source": [
    "# PML decoder"
   ]
  },
  {
   "cell_type": "markdown",
   "id": "d7bf4721",
   "metadata": {},
   "source": [
    "## Random search"
   ]
  },
  {
   "cell_type": "code",
   "execution_count": null,
   "id": "fc12aa5f",
   "metadata": {},
   "outputs": [],
   "source": [
    "def random_search_pml(\n",
    "    key,\n",
    "    code: QEC,\n",
    "    N: int,\n",
    "    error_probs: dict,\n",
    "    batch_count: int = 10,\n",
    "    batch_size: int = 1_000_000,\n",
    "    exact=False,\n",
    "):\n",
    "    history = jnp.empty(N, dtype=jnp.float32)\n",
    "    best_deformation = jnp.empty(code.num_data_qubits, dtype=jnp.int32)\n",
    "    best_error_rate = jnp.inf\n",
    "    for i in range(N):\n",
    "        deformation, key = code.random_deformation(key, allowed_deformations=jnp.arange(6))\n",
    "        error_rate, _ = evaluate_pml_decoder(\n",
    "            key,\n",
    "            code,\n",
    "            deformation,\n",
    "            batch_count,\n",
    "            batch_size,\n",
    "            error_probs=error_probs,\n",
    "            exact=exact\n",
    "        )\n",
    "        print(f\"Iteration {i+1}/{N} \\t Deformation: {deformation} \\t Error Rate: {error_rate:.2E}\\t\\t\", end=\"\\r\")\n",
    "        if error_rate < best_error_rate:\n",
    "            print(f\"Iteration {i+1}/{N} \\t Deformation: {deformation} \\t Error Rate: {error_rate:.2E}\\t\\t\", end=\"\\n\")\n",
    "            best_error_rate = error_rate\n",
    "            best_deformation = deformation\n",
    "        history = history.at[i].set(best_error_rate)\n",
    "    return best_deformation, best_error_rate, history"
   ]
  },
  {
   "cell_type": "code",
   "execution_count": null,
   "id": "cb07f036",
   "metadata": {},
   "outputs": [
    {
     "name": "stdout",
     "output_type": "stream",
     "text": [
      "Iteration 1/100 \t Deformation: [2 4 2 1 4 1 0 3 0] \t Error Rate: 3.45E-04\t\t\n",
      "Iteration 3/100 \t Deformation: [4 3 3 5 2 4 4 5 5] \t Error Rate: 6.76E-05\t\t\n",
      "Iteration 5/100 \t Deformation: [4 5 5 2 5 0 1 4 5] \t Error Rate: 6.39E-05\t\t\n",
      "Iteration 8/100 \t Deformation: [4 2 1 0 3 3 5 1 4] \t Error Rate: 5.37E-05\t\t\n",
      "Iteration 14/100 \t Deformation: [5 4 2 2 0 5 2 1 3] \t Error Rate: 4.83E-05\t\t\n",
      "Iteration 17/100 \t Deformation: [3 0 2 2 3 2 1 2 5] \t Error Rate: 3.71E-05\t\t\n",
      "Iteration 19/100 \t Deformation: [5 5 0 2 4 2 1 2 4] \t Error Rate: 3.71E-05\t\t\n",
      "Iteration 29/100 \t Deformation: [2 2 1 3 1 5 3 0 4] \t Error Rate: 3.65E-05\t\t\n",
      "Solution \t\t Deformation: [2 2 1 3 1 5 3 0 4] \t Error Rate: 3.65E-05\t\t59E-05\t\t\n"
     ]
    }
   ],
   "source": [
    "R_deformation_pml_3, R_ler_pml_3, R_history_pml_3 = random_search_pml(\n",
    "    random.key(42),\n",
    "    code,\n",
    "    N=100,\n",
    "    error_probs=error_probs,\n",
    "    batch_count=10,\n",
    "    batch_size=1_000_000,\n",
    "    exact=True,\n",
    ")\n",
    "print(f\"Solution \\t\\t Deformation: {R_deformation_pml_3} \\t Error Rate: {R_ler_pml_3:.2E}\\t\\t\", end=\"\\n\")"
   ]
  },
  {
   "cell_type": "markdown",
   "id": "95e9bf89",
   "metadata": {},
   "source": [
    "## Hill climb search"
   ]
  },
  {
   "cell_type": "code",
   "execution_count": null,
   "id": "415993c0",
   "metadata": {},
   "outputs": [],
   "source": [
    "def hill_climb_search_pml(\n",
    "    key,\n",
    "    code: QEC,\n",
    "    N: int,\n",
    "    error_probs: dict,\n",
    "    batch_count: int = 10,\n",
    "    batch_size: int = 1_000_000,\n",
    "    exact=False,\n",
    "):\n",
    "    history = jnp.empty(N, dtype=jnp.float32)\n",
    "    local_changes = lambda deformation: [\n",
    "        deformation.at[n].set(d) \n",
    "        for n in range(code.num_data_qubits) \n",
    "        for d in range(6) \n",
    "        if deformation[n] != d\n",
    "    ]\n",
    "\n",
    "    best_deformation = jnp.zeros(code.num_data_qubits, dtype=jnp.int32)\n",
    "    best_error_rate, _ = evaluate_pml_decoder(\n",
    "        key,\n",
    "        code,\n",
    "        best_deformation,\n",
    "        batch_count,\n",
    "        batch_size,\n",
    "        error_probs=error_probs,\n",
    "        exact=exact\n",
    "    )\n",
    "    deformation_candidates = local_changes(best_deformation)\n",
    "    for i in range(N):\n",
    "        print(f\"Iteration {i+1}/{N}     \", end=\"\\r\")\n",
    "        subkey, key = random.split(key)\n",
    "        idx = random.randint(subkey, 1, minval=0, maxval=len(deformation_candidates))[0]\n",
    "        deformation = deformation_candidates[idx]\n",
    "        error_rate, _ = evaluate_pml_decoder(\n",
    "            key,\n",
    "            code,\n",
    "            deformation,\n",
    "            batch_count,\n",
    "            batch_size,\n",
    "            error_probs=error_probs,\n",
    "            exact=exact\n",
    "        )\n",
    "        print(f\"Iteration {i+1}/{N} \\t Deformation: {deformation} \\t Error Rate: {error_rate:.2E}\\t\\t\", end=\"\\r\")\n",
    "        if error_rate < best_error_rate:\n",
    "            print(f\"Iteration {i+1}/{N} \\t Deformation: {deformation} \\t Error Rate: {error_rate:.2E}\\t\\t\", end=\"\\n\")\n",
    "            best_error_rate = error_rate\n",
    "            best_deformation = deformation\n",
    "            deformation_candidates = local_changes(best_deformation)\n",
    "        else:\n",
    "            deformation_candidates.pop(idx)\n",
    "            if len(deformation_candidates) == 0:\n",
    "                print(\"No more candidates, stopping search.\\t\\t\\t\\t\\t\")\n",
    "                history = history.at[i:].set(best_error_rate)\n",
    "                break\n",
    "        history = history.at[i].set(best_error_rate)\n",
    "    return best_deformation, best_error_rate, history"
   ]
  },
  {
   "cell_type": "code",
   "execution_count": null,
   "id": "a1f31cf7",
   "metadata": {},
   "outputs": [
    {
     "name": "stdout",
     "output_type": "stream",
     "text": [
      "Iteration 1/100 \t Deformation: [0 0 0 0 0 0 0 4 0] \t Error Rate: 1.26E-03\t\t\n",
      "Iteration 3/100 \t Deformation: [0 0 4 0 0 0 0 4 0] \t Error Rate: 8.14E-04\t\t\n",
      "Iteration 5/100 \t Deformation: [2 0 4 0 0 0 0 4 0] \t Error Rate: 5.37E-04\t\t\n",
      "Iteration 6/100 \t Deformation: [2 0 4 0 0 0 0 4 4] \t Error Rate: 3.54E-04\t\t\n",
      "Iteration 10/100 \t Deformation: [2 0 4 0 0 0 3 4 4] \t Error Rate: 3.45E-04\t\t\n",
      "Iteration 13/100 \t Deformation: [2 0 4 4 0 0 3 4 4] \t Error Rate: 7.98E-05\t\t\n",
      "Iteration 15/100 \t Deformation: [2 0 0 4 0 0 3 4 4] \t Error Rate: 7.05E-05\t\t\n",
      "Iteration 16/100 \t Deformation: [2 5 0 4 0 0 3 4 4] \t Error Rate: 5.89E-05\t\t\n",
      "Iteration 17/100 \t Deformation: [2 5 0 4 2 0 3 4 4] \t Error Rate: 4.30E-05\t\t\n",
      "Iteration 50/100 \t Deformation: [2 5 0 4 2 2 3 4 4] \t Error Rate: 3.76E-05\t\t\n",
      "Iteration 53/100 \t Deformation: [2 5 0 4 2 2 3 2 4] \t Error Rate: 3.66E-05\t\t\n",
      "Iteration 55/100 \t Deformation: [2 5 0 4 0 2 3 2 4] \t Error Rate: 3.65E-05\t\t\n",
      "Iteration 65/100 \t Deformation: [2 5 0 4 0 2 0 2 4] \t Error Rate: 2.57E-05\t\t\n",
      "Iteration 83/100 \t Deformation: [2 5 0 4 2 2 0 2 4] \t Error Rate: 2.50E-05\t\t\n",
      "Solution \t\t Deformation: [2 5 0 4 2 2 0 2 4] \t Error Rate: 2.50E-05\t\t66E-05\t\t\n"
     ]
    }
   ],
   "source": [
    "HC_deformation_pml_3, HC_ler_pml_3, HC_history_pml_3 = hill_climb_search_pml(\n",
    "    random.key(42),\n",
    "    code,\n",
    "    N=100,\n",
    "    error_probs=error_probs,\n",
    "    batch_count=10,\n",
    "    batch_size=1_000_000,\n",
    "    exact=True\n",
    ")\n",
    "print(f\"Solution \\t\\t Deformation: {HC_deformation_pml_3} \\t Error Rate: {HC_ler_pml_3:.2E}\\t\\t\", end=\"\\n\")"
   ]
  },
  {
   "cell_type": "markdown",
   "id": "23da8f44",
   "metadata": {},
   "source": [
    "# Larger surface code sizes"
   ]
  },
  {
   "cell_type": "markdown",
   "id": "27375d18",
   "metadata": {},
   "source": [
    "## Distance 5"
   ]
  },
  {
   "cell_type": "code",
   "execution_count": 27,
   "id": "1bd4bbf8",
   "metadata": {},
   "outputs": [
    {
     "data": {
      "text/plain": [
       "{'CNN_input_1': [(1, 6, 6), (24, 5, 5)],\n",
       " 'CNN_input_2': [(1, 5, 5), (24, 5, 5)],\n",
       " 'CNN_stage_2': [(24, 5, 5), (24, 4, 4)],\n",
       " 'MLP_stage_3': [384, 50, 2]}"
      ]
     },
     "execution_count": 27,
     "metadata": {},
     "output_type": "execute_result"
    }
   ],
   "source": [
    "code = SurfaceCode(5)\n",
    "\n",
    "settings, model_params = load_params(\"data/CNN-G-5.json\")\n",
    "L = settings[\"CODE_DISTANCE\"]\n",
    "error_probs = settings[\"ERROR_PROBS\"]\n",
    "\n",
    "decoder_model = CNNDual(\n",
    "    input_shape_1=(1, L+1, L+1),\n",
    "    input_shape_2=(1, L, L),\n",
    "    conv_layers_input_1=[tuple(int(v) for v in vals) for vals in settings[\"CONV_LAYERS_INPUT_1\"]],\n",
    "    conv_layers_input_2=[tuple(int(v) for v in vals) for vals in settings[\"CONV_LAYERS_INPUT_2\"]],\n",
    "    conv_layers_stage_2=[tuple(int(v) for v in vals) for vals in settings[\"CONV_LAYERS_STAGE_2\"]],\n",
    "    fc_layers=[int(v) for v in settings[\"FC_LAYERS\"]],\n",
    ")\n",
    "decoder_model.layer_sizes"
   ]
  },
  {
   "cell_type": "code",
   "execution_count": 28,
   "id": "3b33bbd7",
   "metadata": {},
   "outputs": [
    {
     "name": "stdout",
     "output_type": "stream",
     "text": [
      "Iteration 1/100 \t Deformation: [3 3 0 5 3 2 5 3 4 3 4 0 5 5 0 1 4 4 5 3 4 4 0 1 2] \t Error Rate: 7.74E-05\t\t\n"
     ]
    },
    {
     "ename": "KeyboardInterrupt",
     "evalue": "",
     "output_type": "error",
     "traceback": [
      "\u001b[0;31m---------------------------------------------------------------------------\u001b[0m",
      "\u001b[0;31mKeyboardInterrupt\u001b[0m                         Traceback (most recent call last)",
      "Cell \u001b[0;32mIn[28], line 1\u001b[0m\n\u001b[0;32m----> 1\u001b[0m R_deformation_cnng_5, R_ler_cnng_5, R_history_cnng_5 \u001b[38;5;241m=\u001b[39m \u001b[43mrandom_search_cnng\u001b[49m\u001b[43m(\u001b[49m\n\u001b[1;32m      2\u001b[0m \u001b[43m    \u001b[49m\u001b[43mrandom\u001b[49m\u001b[38;5;241;43m.\u001b[39;49m\u001b[43mkey\u001b[49m\u001b[43m(\u001b[49m\u001b[38;5;241;43m42\u001b[39;49m\u001b[43m)\u001b[49m\u001b[43m,\u001b[49m\n\u001b[1;32m      3\u001b[0m \u001b[43m    \u001b[49m\u001b[43mcode\u001b[49m\u001b[43m,\u001b[49m\n\u001b[1;32m      4\u001b[0m \u001b[43m    \u001b[49m\u001b[43mN\u001b[49m\u001b[38;5;241;43m=\u001b[39;49m\u001b[38;5;241;43m100\u001b[39;49m\u001b[43m,\u001b[49m\n\u001b[1;32m      5\u001b[0m \u001b[43m    \u001b[49m\u001b[43mdecoder_model\u001b[49m\u001b[38;5;241;43m=\u001b[39;49m\u001b[43mdecoder_model\u001b[49m\u001b[43m,\u001b[49m\n\u001b[1;32m      6\u001b[0m \u001b[43m    \u001b[49m\u001b[43mmodel_params\u001b[49m\u001b[38;5;241;43m=\u001b[39;49m\u001b[43mmodel_params\u001b[49m\u001b[43m,\u001b[49m\n\u001b[1;32m      7\u001b[0m \u001b[43m    \u001b[49m\u001b[43merror_probs\u001b[49m\u001b[38;5;241;43m=\u001b[39;49m\u001b[43merror_probs\u001b[49m\u001b[43m,\u001b[49m\n\u001b[1;32m      8\u001b[0m \u001b[43m    \u001b[49m\u001b[43mbatch_count\u001b[49m\u001b[38;5;241;43m=\u001b[39;49m\u001b[38;5;241;43m20\u001b[39;49m\u001b[43m,\u001b[49m\n\u001b[1;32m      9\u001b[0m \u001b[43m    \u001b[49m\u001b[43mbatch_size\u001b[49m\u001b[38;5;241;43m=\u001b[39;49m\u001b[38;5;241;43m500_000\u001b[39;49m\u001b[43m,\u001b[49m\n\u001b[1;32m     10\u001b[0m \u001b[43m)\u001b[49m\n\u001b[1;32m     11\u001b[0m \u001b[38;5;28mprint\u001b[39m(\u001b[38;5;124mf\u001b[39m\u001b[38;5;124m\"\u001b[39m\u001b[38;5;124mSolution \u001b[39m\u001b[38;5;130;01m\\t\u001b[39;00m\u001b[38;5;130;01m\\t\u001b[39;00m\u001b[38;5;124m Deformation: \u001b[39m\u001b[38;5;132;01m{\u001b[39;00mR_deformation_cnng_5\u001b[38;5;132;01m}\u001b[39;00m\u001b[38;5;124m \u001b[39m\u001b[38;5;130;01m\\t\u001b[39;00m\u001b[38;5;124m Error Rate: \u001b[39m\u001b[38;5;132;01m{\u001b[39;00mR_ler_cnng_5\u001b[38;5;132;01m:\u001b[39;00m\u001b[38;5;124m.2E\u001b[39m\u001b[38;5;132;01m}\u001b[39;00m\u001b[38;5;130;01m\\t\u001b[39;00m\u001b[38;5;130;01m\\t\u001b[39;00m\u001b[38;5;124m\"\u001b[39m, end\u001b[38;5;241m=\u001b[39m\u001b[38;5;124m\"\u001b[39m\u001b[38;5;130;01m\\n\u001b[39;00m\u001b[38;5;124m\"\u001b[39m)\n",
      "Cell \u001b[0;32mIn[25], line 16\u001b[0m, in \u001b[0;36mrandom_search_cnng\u001b[0;34m(key, code, N, decoder_model, model_params, error_probs, batch_count, batch_size)\u001b[0m\n\u001b[1;32m     14\u001b[0m \u001b[38;5;28;01mfor\u001b[39;00m i \u001b[38;5;129;01min\u001b[39;00m \u001b[38;5;28mrange\u001b[39m(N):\n\u001b[1;32m     15\u001b[0m     deformation, key \u001b[38;5;241m=\u001b[39m code\u001b[38;5;241m.\u001b[39mrandom_deformation(key, allowed_deformations\u001b[38;5;241m=\u001b[39mjnp\u001b[38;5;241m.\u001b[39marange(\u001b[38;5;241m6\u001b[39m))\n\u001b[0;32m---> 16\u001b[0m     error_rate, _ \u001b[38;5;241m=\u001b[39m \u001b[43mevaluate_mcnn_decoder\u001b[49m\u001b[43m(\u001b[49m\n\u001b[1;32m     17\u001b[0m \u001b[43m        \u001b[49m\u001b[43mkey\u001b[49m\u001b[43m,\u001b[49m\n\u001b[1;32m     18\u001b[0m \u001b[43m        \u001b[49m\u001b[43mdecoder_model\u001b[49m\u001b[43m,\u001b[49m\n\u001b[1;32m     19\u001b[0m \u001b[43m        \u001b[49m\u001b[43mmodel_params\u001b[49m\u001b[43m,\u001b[49m\n\u001b[1;32m     20\u001b[0m \u001b[43m        \u001b[49m\u001b[43mcode\u001b[49m\u001b[43m,\u001b[49m\n\u001b[1;32m     21\u001b[0m \u001b[43m        \u001b[49m\u001b[43mdeformation\u001b[49m\u001b[43m,\u001b[49m\n\u001b[1;32m     22\u001b[0m \u001b[43m        \u001b[49m\u001b[43mbatch_count\u001b[49m\u001b[43m,\u001b[49m\n\u001b[1;32m     23\u001b[0m \u001b[43m        \u001b[49m\u001b[43mbatch_size\u001b[49m\u001b[43m,\u001b[49m\n\u001b[1;32m     24\u001b[0m \u001b[43m        \u001b[49m\u001b[43merror_probs\u001b[49m\u001b[38;5;241;43m=\u001b[39;49m\u001b[43merror_probs\u001b[49m\u001b[43m,\u001b[49m\n\u001b[1;32m     25\u001b[0m \u001b[43m    \u001b[49m\u001b[43m)\u001b[49m\n\u001b[1;32m     26\u001b[0m     \u001b[38;5;28mprint\u001b[39m(\u001b[38;5;124mf\u001b[39m\u001b[38;5;124m\"\u001b[39m\u001b[38;5;124mIteration \u001b[39m\u001b[38;5;132;01m{\u001b[39;00mi\u001b[38;5;241m+\u001b[39m\u001b[38;5;241m1\u001b[39m\u001b[38;5;132;01m}\u001b[39;00m\u001b[38;5;124m/\u001b[39m\u001b[38;5;132;01m{\u001b[39;00mN\u001b[38;5;132;01m}\u001b[39;00m\u001b[38;5;124m \u001b[39m\u001b[38;5;130;01m\\t\u001b[39;00m\u001b[38;5;124m Deformation: \u001b[39m\u001b[38;5;132;01m{\u001b[39;00mdeformation\u001b[38;5;132;01m}\u001b[39;00m\u001b[38;5;124m \u001b[39m\u001b[38;5;130;01m\\t\u001b[39;00m\u001b[38;5;124m Error Rate: \u001b[39m\u001b[38;5;132;01m{\u001b[39;00merror_rate\u001b[38;5;132;01m:\u001b[39;00m\u001b[38;5;124m.2E\u001b[39m\u001b[38;5;132;01m}\u001b[39;00m\u001b[38;5;130;01m\\t\u001b[39;00m\u001b[38;5;130;01m\\t\u001b[39;00m\u001b[38;5;124m\"\u001b[39m, end\u001b[38;5;241m=\u001b[39m\u001b[38;5;124m\"\u001b[39m\u001b[38;5;130;01m\\r\u001b[39;00m\u001b[38;5;124m\"\u001b[39m)\n\u001b[1;32m     27\u001b[0m     \u001b[38;5;28;01mif\u001b[39;00m error_rate \u001b[38;5;241m<\u001b[39m best_error_rate:\n",
      "File \u001b[0;32m~/Documents/alumni/Thesis/QEC/Modules/core/evaluate_decoder.py:127\u001b[0m, in \u001b[0;36mevaluate_mcnn_decoder\u001b[0;34m(key, decoder_model, model_params, code, deformation, batch_count, batch_size, error_probs)\u001b[0m\n\u001b[1;32m    125\u001b[0m     ler, i, j \u001b[38;5;241m=\u001b[39m evaluate_batch(subkey, parity_info, deformation_image)\n\u001b[1;32m    126\u001b[0m     logical_error_rate \u001b[38;5;241m=\u001b[39m logical_error_rate\u001b[38;5;241m.\u001b[39mat[r]\u001b[38;5;241m.\u001b[39mset(ler)\n\u001b[0;32m--> 127\u001b[0m     correlation_hist2d \u001b[38;5;241m=\u001b[39m \u001b[43mcorrelation_hist2d\u001b[49m\u001b[38;5;241;43m.\u001b[39;49m\u001b[43mat\u001b[49m\u001b[43m[\u001b[49m\u001b[43mj\u001b[49m\u001b[43m,\u001b[49m\u001b[43m \u001b[49m\u001b[43mi\u001b[49m\u001b[43m]\u001b[49m\u001b[38;5;241;43m.\u001b[39;49m\u001b[43madd\u001b[49m\u001b[43m(\u001b[49m\u001b[38;5;241;43m1\u001b[39;49m\u001b[43m)\u001b[49m\n\u001b[1;32m    128\u001b[0m \u001b[38;5;28;01mreturn\u001b[39;00m logical_error_rate\u001b[38;5;241m.\u001b[39mmean(), correlation_hist2d\n",
      "File \u001b[0;32m~/Documents/Python venv/Thesis/lib/python3.13/site-packages/jax/_src/numpy/array_methods.py:824\u001b[0m, in \u001b[0;36m_IndexUpdateRef.add\u001b[0;34m(self, values, indices_are_sorted, unique_indices, mode)\u001b[0m\n\u001b[1;32m    815\u001b[0m \u001b[38;5;28;01mdef\u001b[39;00m\u001b[38;5;250m \u001b[39m\u001b[38;5;21madd\u001b[39m(\u001b[38;5;28mself\u001b[39m, values, \u001b[38;5;241m*\u001b[39m, indices_are_sorted\u001b[38;5;241m=\u001b[39m\u001b[38;5;28;01mFalse\u001b[39;00m, unique_indices\u001b[38;5;241m=\u001b[39m\u001b[38;5;28;01mFalse\u001b[39;00m,\n\u001b[1;32m    816\u001b[0m         mode\u001b[38;5;241m=\u001b[39m\u001b[38;5;28;01mNone\u001b[39;00m):\n\u001b[1;32m    817\u001b[0m \u001b[38;5;250m  \u001b[39m\u001b[38;5;124;03m\"\"\"Pure equivalent of ``x[idx] += y``.\u001b[39;00m\n\u001b[1;32m    818\u001b[0m \n\u001b[1;32m    819\u001b[0m \u001b[38;5;124;03m  Returns the value of ``x`` that would result from the NumPy-style\u001b[39;00m\n\u001b[0;32m   (...)\u001b[0m\n\u001b[1;32m    822\u001b[0m \u001b[38;5;124;03m  See :mod:`jax.ops` for details.\u001b[39;00m\n\u001b[1;32m    823\u001b[0m \u001b[38;5;124;03m  \"\"\"\u001b[39;00m\n\u001b[0;32m--> 824\u001b[0m   \u001b[38;5;28;01mreturn\u001b[39;00m \u001b[43mscatter\u001b[49m\u001b[38;5;241;43m.\u001b[39;49m\u001b[43m_scatter_update\u001b[49m\u001b[43m(\u001b[49m\u001b[38;5;28;43mself\u001b[39;49m\u001b[38;5;241;43m.\u001b[39;49m\u001b[43marray\u001b[49m\u001b[43m,\u001b[49m\u001b[43m \u001b[49m\u001b[38;5;28;43mself\u001b[39;49m\u001b[38;5;241;43m.\u001b[39;49m\u001b[43mindex\u001b[49m\u001b[43m,\u001b[49m\u001b[43m \u001b[49m\u001b[43mvalues\u001b[49m\u001b[43m,\u001b[49m\n\u001b[1;32m    825\u001b[0m \u001b[43m                                 \u001b[49m\u001b[43mlax\u001b[49m\u001b[38;5;241;43m.\u001b[39;49m\u001b[43mscatter_add\u001b[49m\u001b[43m,\u001b[49m\n\u001b[1;32m    826\u001b[0m \u001b[43m                                 \u001b[49m\u001b[43mindices_are_sorted\u001b[49m\u001b[38;5;241;43m=\u001b[39;49m\u001b[43mindices_are_sorted\u001b[49m\u001b[43m,\u001b[49m\n\u001b[1;32m    827\u001b[0m \u001b[43m                                 \u001b[49m\u001b[43munique_indices\u001b[49m\u001b[38;5;241;43m=\u001b[39;49m\u001b[43munique_indices\u001b[49m\u001b[43m,\u001b[49m\u001b[43m \u001b[49m\u001b[43mmode\u001b[49m\u001b[38;5;241;43m=\u001b[39;49m\u001b[43mmode\u001b[49m\u001b[43m)\u001b[49m\n",
      "File \u001b[0;32m~/Documents/Python venv/Thesis/lib/python3.13/site-packages/jax/_src/ops/scatter.py:76\u001b[0m, in \u001b[0;36m_scatter_update\u001b[0;34m(x, idx, y, scatter_op, indices_are_sorted, unique_indices, mode, normalize_indices)\u001b[0m\n\u001b[1;32m     73\u001b[0m \u001b[38;5;66;03m# XLA gathers and scatters are very similar in structure; the scatter logic\u001b[39;00m\n\u001b[1;32m     74\u001b[0m \u001b[38;5;66;03m# is more or less a transpose of the gather equivalent.\u001b[39;00m\n\u001b[1;32m     75\u001b[0m treedef, static_idx, dynamic_idx \u001b[38;5;241m=\u001b[39m jnp\u001b[38;5;241m.\u001b[39m_split_index_for_jit(idx, x\u001b[38;5;241m.\u001b[39mshape)\n\u001b[0;32m---> 76\u001b[0m \u001b[38;5;28;01mreturn\u001b[39;00m \u001b[43m_scatter_impl\u001b[49m\u001b[43m(\u001b[49m\u001b[43mx\u001b[49m\u001b[43m,\u001b[49m\u001b[43m \u001b[49m\u001b[43my\u001b[49m\u001b[43m,\u001b[49m\u001b[43m \u001b[49m\u001b[43mscatter_op\u001b[49m\u001b[43m,\u001b[49m\u001b[43m \u001b[49m\u001b[43mtreedef\u001b[49m\u001b[43m,\u001b[49m\u001b[43m \u001b[49m\u001b[43mstatic_idx\u001b[49m\u001b[43m,\u001b[49m\u001b[43m \u001b[49m\u001b[43mdynamic_idx\u001b[49m\u001b[43m,\u001b[49m\n\u001b[1;32m     77\u001b[0m \u001b[43m                     \u001b[49m\u001b[43mindices_are_sorted\u001b[49m\u001b[43m,\u001b[49m\u001b[43m \u001b[49m\u001b[43munique_indices\u001b[49m\u001b[43m,\u001b[49m\u001b[43m \u001b[49m\u001b[43mmode\u001b[49m\u001b[43m,\u001b[49m\n\u001b[1;32m     78\u001b[0m \u001b[43m                     \u001b[49m\u001b[43mnormalize_indices\u001b[49m\u001b[43m)\u001b[49m\n",
      "File \u001b[0;32m~/Documents/Python venv/Thesis/lib/python3.13/site-packages/jax/_src/ops/scatter.py:100\u001b[0m, in \u001b[0;36m_scatter_impl\u001b[0;34m(x, y, scatter_op, treedef, static_idx, dynamic_idx, indices_are_sorted, unique_indices, mode, normalize_indices)\u001b[0m\n\u001b[1;32m     92\u001b[0m   warnings\u001b[38;5;241m.\u001b[39mwarn(\n\u001b[1;32m     93\u001b[0m     \u001b[38;5;124m\"\u001b[39m\u001b[38;5;124mscatter inputs have incompatible types: cannot safely cast value \u001b[39m\u001b[38;5;124m\"\u001b[39m\n\u001b[1;32m     94\u001b[0m     \u001b[38;5;124mf\u001b[39m\u001b[38;5;124m\"\u001b[39m\u001b[38;5;124mfrom dtype=\u001b[39m\u001b[38;5;132;01m{\u001b[39;00mlax\u001b[38;5;241m.\u001b[39mdtype(y)\u001b[38;5;132;01m}\u001b[39;00m\u001b[38;5;124m to dtype=\u001b[39m\u001b[38;5;132;01m{\u001b[39;00mlax\u001b[38;5;241m.\u001b[39mdtype(x)\u001b[38;5;132;01m}\u001b[39;00m\u001b[38;5;124m with \u001b[39m\u001b[38;5;124m\"\u001b[39m\n\u001b[1;32m     95\u001b[0m     \u001b[38;5;124mf\u001b[39m\u001b[38;5;124m\"\u001b[39m\u001b[38;5;124mjax_numpy_dtype_promotion=\u001b[39m\u001b[38;5;132;01m{\u001b[39;00mconfig\u001b[38;5;241m.\u001b[39mnumpy_dtype_promotion\u001b[38;5;241m.\u001b[39mvalue\u001b[38;5;132;01m!r}\u001b[39;00m\u001b[38;5;124m. \u001b[39m\u001b[38;5;124m\"\u001b[39m\n\u001b[1;32m     96\u001b[0m     \u001b[38;5;124m\"\u001b[39m\u001b[38;5;124mIn future JAX releases this will result in an error.\u001b[39m\u001b[38;5;124m\"\u001b[39m,\n\u001b[1;32m     97\u001b[0m     \u001b[38;5;167;01mFutureWarning\u001b[39;00m)\n\u001b[1;32m     99\u001b[0m idx \u001b[38;5;241m=\u001b[39m jnp\u001b[38;5;241m.\u001b[39m_merge_static_and_dynamic_indices(treedef, static_idx, dynamic_idx)\n\u001b[0;32m--> 100\u001b[0m indexer \u001b[38;5;241m=\u001b[39m \u001b[43mjnp\u001b[49m\u001b[38;5;241;43m.\u001b[39;49m\u001b[43m_index_to_gather\u001b[49m\u001b[43m(\u001b[49m\u001b[43mjnp\u001b[49m\u001b[38;5;241;43m.\u001b[39;49m\u001b[43mshape\u001b[49m\u001b[43m(\u001b[49m\u001b[43mx\u001b[49m\u001b[43m)\u001b[49m\u001b[43m,\u001b[49m\u001b[43m \u001b[49m\u001b[43midx\u001b[49m\u001b[43m,\u001b[49m\n\u001b[1;32m    101\u001b[0m \u001b[43m                               \u001b[49m\u001b[43mnormalize_indices\u001b[49m\u001b[38;5;241;43m=\u001b[39;49m\u001b[43mnormalize_indices\u001b[49m\u001b[43m)\u001b[49m\n\u001b[1;32m    103\u001b[0m \u001b[38;5;66;03m# Avoid calling scatter if the slice shape is empty, both as a fast path and\u001b[39;00m\n\u001b[1;32m    104\u001b[0m \u001b[38;5;66;03m# to handle cases like zeros(0)[array([], int32)].\u001b[39;00m\n\u001b[1;32m    105\u001b[0m \u001b[38;5;28;01mif\u001b[39;00m core\u001b[38;5;241m.\u001b[39mis_empty_shape(indexer\u001b[38;5;241m.\u001b[39mslice_shape):\n",
      "File \u001b[0;32m~/Documents/Python venv/Thesis/lib/python3.13/site-packages/jax/_src/numpy/lax_numpy.py:11711\u001b[0m, in \u001b[0;36m_index_to_gather\u001b[0;34m(x_shape, idx, normalize_indices)\u001b[0m\n\u001b[1;32m  11708\u001b[0m   last_dim \u001b[38;5;241m=\u001b[39m \u001b[38;5;28mlen\u001b[39m(gather_indices_shape)\n\u001b[1;32m  11709\u001b[0m   gather_indices_shape\u001b[38;5;241m.\u001b[39mappend(\u001b[38;5;241m1\u001b[39m)\n\u001b[1;32m  11710\u001b[0m   gather_indices_array \u001b[38;5;241m=\u001b[39m lax\u001b[38;5;241m.\u001b[39mconcatenate([\n\u001b[0;32m> 11711\u001b[0m     \u001b[43mlax\u001b[49m\u001b[38;5;241;43m.\u001b[39;49m\u001b[43mbroadcast_in_dim\u001b[49m\u001b[43m(\u001b[49m\u001b[43mg\u001b[49m\u001b[43m,\u001b[49m\u001b[43m \u001b[49m\u001b[43mgather_indices_shape\u001b[49m\u001b[43m,\u001b[49m\u001b[43m \u001b[49m\u001b[38;5;28;43mtuple\u001b[39;49m\u001b[43m(\u001b[49m\u001b[38;5;28;43mrange\u001b[39;49m\u001b[43m(\u001b[49m\u001b[43mi\u001b[49m\u001b[43m,\u001b[49m\u001b[43m \u001b[49m\u001b[43mi\u001b[49m\u001b[43m \u001b[49m\u001b[38;5;241;43m+\u001b[39;49m\u001b[43m \u001b[49m\u001b[43mg\u001b[49m\u001b[38;5;241;43m.\u001b[39;49m\u001b[43mndim\u001b[49m\u001b[43m)\u001b[49m\u001b[43m)\u001b[49m\u001b[43m)\u001b[49m\n\u001b[1;32m  11712\u001b[0m     \u001b[38;5;28;01mfor\u001b[39;00m g, i \u001b[38;5;129;01min\u001b[39;00m gather_indices],\n\u001b[1;32m  11713\u001b[0m     last_dim)\n\u001b[1;32m  11715\u001b[0m dnums \u001b[38;5;241m=\u001b[39m lax\u001b[38;5;241m.\u001b[39mGatherDimensionNumbers(\n\u001b[1;32m  11716\u001b[0m   offset_dims \u001b[38;5;241m=\u001b[39m \u001b[38;5;28mtuple\u001b[39m(offset_dims),\n\u001b[1;32m  11717\u001b[0m   collapsed_slice_dims \u001b[38;5;241m=\u001b[39m \u001b[38;5;28mtuple\u001b[39m(\u001b[38;5;28msorted\u001b[39m(collapsed_slice_dims)),\n\u001b[1;32m  11718\u001b[0m   start_index_map \u001b[38;5;241m=\u001b[39m \u001b[38;5;28mtuple\u001b[39m(start_index_map)\n\u001b[1;32m  11719\u001b[0m )\n\u001b[1;32m  11720\u001b[0m \u001b[38;5;28;01mreturn\u001b[39;00m _Indexer(\n\u001b[1;32m  11721\u001b[0m   slice_shape\u001b[38;5;241m=\u001b[39mslice_shape,\n\u001b[1;32m  11722\u001b[0m   newaxis_dims\u001b[38;5;241m=\u001b[39m\u001b[38;5;28mtuple\u001b[39m(newaxis_dims),\n\u001b[0;32m   (...)\u001b[0m\n\u001b[1;32m  11728\u001b[0m   indices_are_sorted\u001b[38;5;241m=\u001b[39madvanced_indexes \u001b[38;5;129;01mis\u001b[39;00m \u001b[38;5;28;01mNone\u001b[39;00m,\n\u001b[1;32m  11729\u001b[0m   scalar_bool_dims\u001b[38;5;241m=\u001b[39mscalar_bool_dims)\n",
      "File \u001b[0;32m~/Documents/Python venv/Thesis/lib/python3.13/site-packages/jax/_src/lax/lax.py:1185\u001b[0m, in \u001b[0;36mbroadcast_in_dim\u001b[0;34m(operand, shape, broadcast_dimensions)\u001b[0m\n\u001b[1;32m   1183\u001b[0m \u001b[38;5;28;01melse\u001b[39;00m:\n\u001b[1;32m   1184\u001b[0m   dyn_shape, static_shape \u001b[38;5;241m=\u001b[39m [], shape  \u001b[38;5;66;03m# type: ignore\u001b[39;00m\n\u001b[0;32m-> 1185\u001b[0m \u001b[38;5;28;01mreturn\u001b[39;00m \u001b[43mbroadcast_in_dim_p\u001b[49m\u001b[38;5;241;43m.\u001b[39;49m\u001b[43mbind\u001b[49m\u001b[43m(\u001b[49m\n\u001b[1;32m   1186\u001b[0m \u001b[43m    \u001b[49m\u001b[43moperand\u001b[49m\u001b[43m,\u001b[49m\u001b[43m \u001b[49m\u001b[38;5;241;43m*\u001b[39;49m\u001b[43mdyn_shape\u001b[49m\u001b[43m,\u001b[49m\u001b[43m \u001b[49m\u001b[43mshape\u001b[49m\u001b[38;5;241;43m=\u001b[39;49m\u001b[38;5;28;43mtuple\u001b[39;49m\u001b[43m(\u001b[49m\u001b[43mstatic_shape\u001b[49m\u001b[43m)\u001b[49m\u001b[43m,\u001b[49m\n\u001b[1;32m   1187\u001b[0m \u001b[43m    \u001b[49m\u001b[43mbroadcast_dimensions\u001b[49m\u001b[38;5;241;43m=\u001b[39;49m\u001b[38;5;28;43mtuple\u001b[39;49m\u001b[43m(\u001b[49m\u001b[43mbroadcast_dimensions\u001b[49m\u001b[43m)\u001b[49m\u001b[43m)\u001b[49m\n",
      "File \u001b[0;32m~/Documents/Python venv/Thesis/lib/python3.13/site-packages/jax/_src/core.py:438\u001b[0m, in \u001b[0;36mPrimitive.bind\u001b[0;34m(self, *args, **params)\u001b[0m\n\u001b[1;32m    435\u001b[0m \u001b[38;5;28;01mdef\u001b[39;00m\u001b[38;5;250m \u001b[39m\u001b[38;5;21mbind\u001b[39m(\u001b[38;5;28mself\u001b[39m, \u001b[38;5;241m*\u001b[39margs, \u001b[38;5;241m*\u001b[39m\u001b[38;5;241m*\u001b[39mparams):\n\u001b[1;32m    436\u001b[0m   \u001b[38;5;28;01massert\u001b[39;00m (\u001b[38;5;129;01mnot\u001b[39;00m config\u001b[38;5;241m.\u001b[39menable_checks\u001b[38;5;241m.\u001b[39mvalue \u001b[38;5;129;01mor\u001b[39;00m\n\u001b[1;32m    437\u001b[0m           \u001b[38;5;28mall\u001b[39m(\u001b[38;5;28misinstance\u001b[39m(arg, Tracer) \u001b[38;5;129;01mor\u001b[39;00m valid_jaxtype(arg) \u001b[38;5;28;01mfor\u001b[39;00m arg \u001b[38;5;129;01min\u001b[39;00m args)), args\n\u001b[0;32m--> 438\u001b[0m   \u001b[38;5;28;01mreturn\u001b[39;00m \u001b[38;5;28;43mself\u001b[39;49m\u001b[38;5;241;43m.\u001b[39;49m\u001b[43mbind_with_trace\u001b[49m\u001b[43m(\u001b[49m\u001b[43mfind_top_trace\u001b[49m\u001b[43m(\u001b[49m\u001b[43margs\u001b[49m\u001b[43m)\u001b[49m\u001b[43m,\u001b[49m\u001b[43m \u001b[49m\u001b[43margs\u001b[49m\u001b[43m,\u001b[49m\u001b[43m \u001b[49m\u001b[43mparams\u001b[49m\u001b[43m)\u001b[49m\n",
      "File \u001b[0;32m~/Documents/Python venv/Thesis/lib/python3.13/site-packages/jax/_src/core.py:442\u001b[0m, in \u001b[0;36mPrimitive.bind_with_trace\u001b[0;34m(self, trace, args, params)\u001b[0m\n\u001b[1;32m    440\u001b[0m \u001b[38;5;28;01mdef\u001b[39;00m\u001b[38;5;250m \u001b[39m\u001b[38;5;21mbind_with_trace\u001b[39m(\u001b[38;5;28mself\u001b[39m, trace, args, params):\n\u001b[1;32m    441\u001b[0m   \u001b[38;5;28;01mwith\u001b[39;00m pop_level(trace\u001b[38;5;241m.\u001b[39mlevel):\n\u001b[0;32m--> 442\u001b[0m     out \u001b[38;5;241m=\u001b[39m \u001b[43mtrace\u001b[49m\u001b[38;5;241;43m.\u001b[39;49m\u001b[43mprocess_primitive\u001b[49m\u001b[43m(\u001b[49m\u001b[38;5;28;43mself\u001b[39;49m\u001b[43m,\u001b[49m\u001b[43m \u001b[49m\u001b[38;5;28;43mmap\u001b[39;49m\u001b[43m(\u001b[49m\u001b[43mtrace\u001b[49m\u001b[38;5;241;43m.\u001b[39;49m\u001b[43mfull_raise\u001b[49m\u001b[43m,\u001b[49m\u001b[43m \u001b[49m\u001b[43margs\u001b[49m\u001b[43m)\u001b[49m\u001b[43m,\u001b[49m\u001b[43m \u001b[49m\u001b[43mparams\u001b[49m\u001b[43m)\u001b[49m\n\u001b[1;32m    443\u001b[0m   \u001b[38;5;28;01mreturn\u001b[39;00m \u001b[38;5;28mmap\u001b[39m(full_lower, out) \u001b[38;5;28;01mif\u001b[39;00m \u001b[38;5;28mself\u001b[39m\u001b[38;5;241m.\u001b[39mmultiple_results \u001b[38;5;28;01melse\u001b[39;00m full_lower(out)\n",
      "File \u001b[0;32m~/Documents/Python venv/Thesis/lib/python3.13/site-packages/jax/_src/core.py:955\u001b[0m, in \u001b[0;36mEvalTrace.process_primitive\u001b[0;34m(self, primitive, tracers, params)\u001b[0m\n\u001b[1;32m    953\u001b[0m   \u001b[38;5;28;01mreturn\u001b[39;00m call_impl_with_key_reuse_checks(primitive, primitive\u001b[38;5;241m.\u001b[39mimpl, \u001b[38;5;241m*\u001b[39mtracers, \u001b[38;5;241m*\u001b[39m\u001b[38;5;241m*\u001b[39mparams)\n\u001b[1;32m    954\u001b[0m \u001b[38;5;28;01melse\u001b[39;00m:\n\u001b[0;32m--> 955\u001b[0m   \u001b[38;5;28;01mreturn\u001b[39;00m \u001b[43mprimitive\u001b[49m\u001b[38;5;241;43m.\u001b[39;49m\u001b[43mimpl\u001b[49m\u001b[43m(\u001b[49m\u001b[38;5;241;43m*\u001b[39;49m\u001b[43mtracers\u001b[49m\u001b[43m,\u001b[49m\u001b[43m \u001b[49m\u001b[38;5;241;43m*\u001b[39;49m\u001b[38;5;241;43m*\u001b[39;49m\u001b[43mparams\u001b[49m\u001b[43m)\u001b[49m\n",
      "File \u001b[0;32m~/Documents/Python venv/Thesis/lib/python3.13/site-packages/jax/_src/dispatch.py:91\u001b[0m, in \u001b[0;36mapply_primitive\u001b[0;34m(prim, *args, **params)\u001b[0m\n\u001b[1;32m     89\u001b[0m prev \u001b[38;5;241m=\u001b[39m lib\u001b[38;5;241m.\u001b[39mjax_jit\u001b[38;5;241m.\u001b[39mswap_thread_local_state_disable_jit(\u001b[38;5;28;01mFalse\u001b[39;00m)\n\u001b[1;32m     90\u001b[0m \u001b[38;5;28;01mtry\u001b[39;00m:\n\u001b[0;32m---> 91\u001b[0m   outs \u001b[38;5;241m=\u001b[39m \u001b[43mfun\u001b[49m\u001b[43m(\u001b[49m\u001b[38;5;241;43m*\u001b[39;49m\u001b[43margs\u001b[49m\u001b[43m)\u001b[49m\n\u001b[1;32m     92\u001b[0m \u001b[38;5;28;01mfinally\u001b[39;00m:\n\u001b[1;32m     93\u001b[0m   lib\u001b[38;5;241m.\u001b[39mjax_jit\u001b[38;5;241m.\u001b[39mswap_thread_local_state_disable_jit(prev)\n",
      "\u001b[0;31mKeyboardInterrupt\u001b[0m: "
     ]
    }
   ],
   "source": [
    "R_deformation_cnng_5, R_ler_cnng_5, R_history_cnng_5 = random_search_cnng(\n",
    "    random.key(42),\n",
    "    code,\n",
    "    N=100,\n",
    "    decoder_model=decoder_model,\n",
    "    model_params=model_params,\n",
    "    error_probs=error_probs,\n",
    "    batch_count=20,\n",
    "    batch_size=500_000,\n",
    ")\n",
    "print(f\"Solution \\t\\t Deformation: {R_deformation_cnng_5} \\t Error Rate: {R_ler_cnng_5:.2E}\\t\\t\", end=\"\\n\")"
   ]
  },
  {
   "cell_type": "code",
   "execution_count": null,
   "id": "668e4d28",
   "metadata": {},
   "outputs": [],
   "source": [
    "HC_deformation_cnng_5, HC_ler_cnng_5, HC_history_cnng_5 = hill_climb_search_cnng(\n",
    "    random.key(42),\n",
    "    code,\n",
    "    N=100,\n",
    "    decoder_model=decoder_model,\n",
    "    model_params=model_params,\n",
    "    error_probs=error_probs,\n",
    "    batch_count=20,\n",
    "    batch_size=500_000,\n",
    ")\n",
    "print(f\"Solution \\t\\t Deformation: {HC_deformation_cnng_5} \\t Error Rate: {HC_ler_cnng_5:.2E}\\t\\t\", end=\"\\n\")"
   ]
  },
  {
   "cell_type": "markdown",
   "id": "a5988fe6",
   "metadata": {},
   "source": [
    "# Distance 7"
   ]
  },
  {
   "cell_type": "code",
   "execution_count": 30,
   "id": "6ac57008",
   "metadata": {},
   "outputs": [
    {
     "data": {
      "text/plain": [
       "{'CNN_input_1': [(1, 8, 8), (48, 7, 7)],\n",
       " 'CNN_input_2': [(1, 7, 7), (48, 7, 7)],\n",
       " 'CNN_stage_2': [(48, 7, 7), (48, 6, 6)],\n",
       " 'MLP_stage_3': [1728, 50, 2]}"
      ]
     },
     "execution_count": 30,
     "metadata": {},
     "output_type": "execute_result"
    }
   ],
   "source": [
    "code = SurfaceCode(7)\n",
    "\n",
    "settings, model_params = load_params(\"data/CNN-G-7.json\")\n",
    "L = settings[\"CODE_DISTANCE\"]\n",
    "error_probs = settings[\"ERROR_PROBS\"]\n",
    "\n",
    "decoder_model = CNNDual(\n",
    "    input_shape_1=(1, L+1, L+1),\n",
    "    input_shape_2=(1, L, L),\n",
    "    conv_layers_input_1=[tuple(int(v) for v in vals) for vals in settings[\"CONV_LAYERS_INPUT_1\"]],\n",
    "    conv_layers_input_2=[tuple(int(v) for v in vals) for vals in settings[\"CONV_LAYERS_INPUT_2\"]],\n",
    "    conv_layers_stage_2=[tuple(int(v) for v in vals) for vals in settings[\"CONV_LAYERS_STAGE_2\"]],\n",
    "    fc_layers=[int(v) for v in settings[\"FC_LAYERS\"]],\n",
    ")\n",
    "decoder_model.layer_sizes"
   ]
  },
  {
   "cell_type": "code",
   "execution_count": 32,
   "id": "8b9c0b4c",
   "metadata": {},
   "outputs": [
    {
     "ename": "KeyboardInterrupt",
     "evalue": "",
     "output_type": "error",
     "traceback": [
      "\u001b[0;31m---------------------------------------------------------------------------\u001b[0m",
      "\u001b[0;31mKeyboardInterrupt\u001b[0m                         Traceback (most recent call last)",
      "Cell \u001b[0;32mIn[32], line 1\u001b[0m\n\u001b[0;32m----> 1\u001b[0m R_deformation_cnng_7, R_ler_cnng_7, R_history_cnng_7 \u001b[38;5;241m=\u001b[39m \u001b[43mrandom_search_cnng\u001b[49m\u001b[43m(\u001b[49m\n\u001b[1;32m      2\u001b[0m \u001b[43m    \u001b[49m\u001b[43mrandom\u001b[49m\u001b[38;5;241;43m.\u001b[39;49m\u001b[43mkey\u001b[49m\u001b[43m(\u001b[49m\u001b[38;5;241;43m42\u001b[39;49m\u001b[43m)\u001b[49m\u001b[43m,\u001b[49m\n\u001b[1;32m      3\u001b[0m \u001b[43m    \u001b[49m\u001b[43mcode\u001b[49m\u001b[43m,\u001b[49m\n\u001b[1;32m      4\u001b[0m \u001b[43m    \u001b[49m\u001b[43mN\u001b[49m\u001b[38;5;241;43m=\u001b[39;49m\u001b[38;5;241;43m100\u001b[39;49m\u001b[43m,\u001b[49m\n\u001b[1;32m      5\u001b[0m \u001b[43m    \u001b[49m\u001b[43mdecoder_model\u001b[49m\u001b[38;5;241;43m=\u001b[39;49m\u001b[43mdecoder_model\u001b[49m\u001b[43m,\u001b[49m\n\u001b[1;32m      6\u001b[0m \u001b[43m    \u001b[49m\u001b[43mmodel_params\u001b[49m\u001b[38;5;241;43m=\u001b[39;49m\u001b[43mmodel_params\u001b[49m\u001b[43m,\u001b[49m\n\u001b[1;32m      7\u001b[0m \u001b[43m    \u001b[49m\u001b[43merror_probs\u001b[49m\u001b[38;5;241;43m=\u001b[39;49m\u001b[43merror_probs\u001b[49m\u001b[43m,\u001b[49m\n\u001b[1;32m      8\u001b[0m \u001b[43m    \u001b[49m\u001b[43mbatch_count\u001b[49m\u001b[38;5;241;43m=\u001b[39;49m\u001b[38;5;241;43m50\u001b[39;49m\u001b[43m,\u001b[49m\n\u001b[1;32m      9\u001b[0m \u001b[43m    \u001b[49m\u001b[43mbatch_size\u001b[49m\u001b[38;5;241;43m=\u001b[39;49m\u001b[38;5;241;43m200_000\u001b[39;49m\u001b[43m,\u001b[49m\n\u001b[1;32m     10\u001b[0m \u001b[43m)\u001b[49m\n\u001b[1;32m     11\u001b[0m \u001b[38;5;28mprint\u001b[39m(\u001b[38;5;124mf\u001b[39m\u001b[38;5;124m\"\u001b[39m\u001b[38;5;124mSolution \u001b[39m\u001b[38;5;130;01m\\t\u001b[39;00m\u001b[38;5;130;01m\\t\u001b[39;00m\u001b[38;5;124m Deformation: \u001b[39m\u001b[38;5;132;01m{\u001b[39;00mR_deformation_cnng_7\u001b[38;5;132;01m}\u001b[39;00m\u001b[38;5;124m \u001b[39m\u001b[38;5;130;01m\\t\u001b[39;00m\u001b[38;5;124m Error Rate: \u001b[39m\u001b[38;5;132;01m{\u001b[39;00mR_ler_cnng_7\u001b[38;5;132;01m:\u001b[39;00m\u001b[38;5;124m.2E\u001b[39m\u001b[38;5;132;01m}\u001b[39;00m\u001b[38;5;130;01m\\t\u001b[39;00m\u001b[38;5;130;01m\\t\u001b[39;00m\u001b[38;5;124m\"\u001b[39m, end\u001b[38;5;241m=\u001b[39m\u001b[38;5;124m\"\u001b[39m\u001b[38;5;130;01m\\n\u001b[39;00m\u001b[38;5;124m\"\u001b[39m)\n",
      "Cell \u001b[0;32mIn[25], line 16\u001b[0m, in \u001b[0;36mrandom_search_cnng\u001b[0;34m(key, code, N, decoder_model, model_params, error_probs, batch_count, batch_size)\u001b[0m\n\u001b[1;32m     14\u001b[0m \u001b[38;5;28;01mfor\u001b[39;00m i \u001b[38;5;129;01min\u001b[39;00m \u001b[38;5;28mrange\u001b[39m(N):\n\u001b[1;32m     15\u001b[0m     deformation, key \u001b[38;5;241m=\u001b[39m code\u001b[38;5;241m.\u001b[39mrandom_deformation(key, allowed_deformations\u001b[38;5;241m=\u001b[39mjnp\u001b[38;5;241m.\u001b[39marange(\u001b[38;5;241m6\u001b[39m))\n\u001b[0;32m---> 16\u001b[0m     error_rate, _ \u001b[38;5;241m=\u001b[39m \u001b[43mevaluate_mcnn_decoder\u001b[49m\u001b[43m(\u001b[49m\n\u001b[1;32m     17\u001b[0m \u001b[43m        \u001b[49m\u001b[43mkey\u001b[49m\u001b[43m,\u001b[49m\n\u001b[1;32m     18\u001b[0m \u001b[43m        \u001b[49m\u001b[43mdecoder_model\u001b[49m\u001b[43m,\u001b[49m\n\u001b[1;32m     19\u001b[0m \u001b[43m        \u001b[49m\u001b[43mmodel_params\u001b[49m\u001b[43m,\u001b[49m\n\u001b[1;32m     20\u001b[0m \u001b[43m        \u001b[49m\u001b[43mcode\u001b[49m\u001b[43m,\u001b[49m\n\u001b[1;32m     21\u001b[0m \u001b[43m        \u001b[49m\u001b[43mdeformation\u001b[49m\u001b[43m,\u001b[49m\n\u001b[1;32m     22\u001b[0m \u001b[43m        \u001b[49m\u001b[43mbatch_count\u001b[49m\u001b[43m,\u001b[49m\n\u001b[1;32m     23\u001b[0m \u001b[43m        \u001b[49m\u001b[43mbatch_size\u001b[49m\u001b[43m,\u001b[49m\n\u001b[1;32m     24\u001b[0m \u001b[43m        \u001b[49m\u001b[43merror_probs\u001b[49m\u001b[38;5;241;43m=\u001b[39;49m\u001b[43merror_probs\u001b[49m\u001b[43m,\u001b[49m\n\u001b[1;32m     25\u001b[0m \u001b[43m    \u001b[49m\u001b[43m)\u001b[49m\n\u001b[1;32m     26\u001b[0m     \u001b[38;5;28mprint\u001b[39m(\u001b[38;5;124mf\u001b[39m\u001b[38;5;124m\"\u001b[39m\u001b[38;5;124mIteration \u001b[39m\u001b[38;5;132;01m{\u001b[39;00mi\u001b[38;5;241m+\u001b[39m\u001b[38;5;241m1\u001b[39m\u001b[38;5;132;01m}\u001b[39;00m\u001b[38;5;124m/\u001b[39m\u001b[38;5;132;01m{\u001b[39;00mN\u001b[38;5;132;01m}\u001b[39;00m\u001b[38;5;124m \u001b[39m\u001b[38;5;130;01m\\t\u001b[39;00m\u001b[38;5;124m Deformation: \u001b[39m\u001b[38;5;132;01m{\u001b[39;00mdeformation\u001b[38;5;132;01m}\u001b[39;00m\u001b[38;5;124m \u001b[39m\u001b[38;5;130;01m\\t\u001b[39;00m\u001b[38;5;124m Error Rate: \u001b[39m\u001b[38;5;132;01m{\u001b[39;00merror_rate\u001b[38;5;132;01m:\u001b[39;00m\u001b[38;5;124m.2E\u001b[39m\u001b[38;5;132;01m}\u001b[39;00m\u001b[38;5;130;01m\\t\u001b[39;00m\u001b[38;5;130;01m\\t\u001b[39;00m\u001b[38;5;124m\"\u001b[39m, end\u001b[38;5;241m=\u001b[39m\u001b[38;5;124m\"\u001b[39m\u001b[38;5;130;01m\\r\u001b[39;00m\u001b[38;5;124m\"\u001b[39m)\n\u001b[1;32m     27\u001b[0m     \u001b[38;5;28;01mif\u001b[39;00m error_rate \u001b[38;5;241m<\u001b[39m best_error_rate:\n",
      "File \u001b[0;32m~/Documents/alumni/Thesis/QEC/Modules/core/evaluate_decoder.py:127\u001b[0m, in \u001b[0;36mevaluate_mcnn_decoder\u001b[0;34m(key, decoder_model, model_params, code, deformation, batch_count, batch_size, error_probs)\u001b[0m\n\u001b[1;32m    125\u001b[0m     ler, i, j \u001b[38;5;241m=\u001b[39m evaluate_batch(subkey, parity_info, deformation_image)\n\u001b[1;32m    126\u001b[0m     logical_error_rate \u001b[38;5;241m=\u001b[39m logical_error_rate\u001b[38;5;241m.\u001b[39mat[r]\u001b[38;5;241m.\u001b[39mset(ler)\n\u001b[0;32m--> 127\u001b[0m     correlation_hist2d \u001b[38;5;241m=\u001b[39m \u001b[43mcorrelation_hist2d\u001b[49m\u001b[38;5;241;43m.\u001b[39;49m\u001b[43mat\u001b[49m\u001b[43m[\u001b[49m\u001b[43mj\u001b[49m\u001b[43m,\u001b[49m\u001b[43m \u001b[49m\u001b[43mi\u001b[49m\u001b[43m]\u001b[49m\u001b[38;5;241;43m.\u001b[39;49m\u001b[43madd\u001b[49m\u001b[43m(\u001b[49m\u001b[38;5;241;43m1\u001b[39;49m\u001b[43m)\u001b[49m\n\u001b[1;32m    128\u001b[0m \u001b[38;5;28;01mreturn\u001b[39;00m logical_error_rate\u001b[38;5;241m.\u001b[39mmean(), correlation_hist2d\n",
      "File \u001b[0;32m~/Documents/Python venv/Thesis/lib/python3.13/site-packages/jax/_src/numpy/array_methods.py:824\u001b[0m, in \u001b[0;36m_IndexUpdateRef.add\u001b[0;34m(self, values, indices_are_sorted, unique_indices, mode)\u001b[0m\n\u001b[1;32m    815\u001b[0m \u001b[38;5;28;01mdef\u001b[39;00m\u001b[38;5;250m \u001b[39m\u001b[38;5;21madd\u001b[39m(\u001b[38;5;28mself\u001b[39m, values, \u001b[38;5;241m*\u001b[39m, indices_are_sorted\u001b[38;5;241m=\u001b[39m\u001b[38;5;28;01mFalse\u001b[39;00m, unique_indices\u001b[38;5;241m=\u001b[39m\u001b[38;5;28;01mFalse\u001b[39;00m,\n\u001b[1;32m    816\u001b[0m         mode\u001b[38;5;241m=\u001b[39m\u001b[38;5;28;01mNone\u001b[39;00m):\n\u001b[1;32m    817\u001b[0m \u001b[38;5;250m  \u001b[39m\u001b[38;5;124;03m\"\"\"Pure equivalent of ``x[idx] += y``.\u001b[39;00m\n\u001b[1;32m    818\u001b[0m \n\u001b[1;32m    819\u001b[0m \u001b[38;5;124;03m  Returns the value of ``x`` that would result from the NumPy-style\u001b[39;00m\n\u001b[0;32m   (...)\u001b[0m\n\u001b[1;32m    822\u001b[0m \u001b[38;5;124;03m  See :mod:`jax.ops` for details.\u001b[39;00m\n\u001b[1;32m    823\u001b[0m \u001b[38;5;124;03m  \"\"\"\u001b[39;00m\n\u001b[0;32m--> 824\u001b[0m   \u001b[38;5;28;01mreturn\u001b[39;00m \u001b[43mscatter\u001b[49m\u001b[38;5;241;43m.\u001b[39;49m\u001b[43m_scatter_update\u001b[49m\u001b[43m(\u001b[49m\u001b[38;5;28;43mself\u001b[39;49m\u001b[38;5;241;43m.\u001b[39;49m\u001b[43marray\u001b[49m\u001b[43m,\u001b[49m\u001b[43m \u001b[49m\u001b[38;5;28;43mself\u001b[39;49m\u001b[38;5;241;43m.\u001b[39;49m\u001b[43mindex\u001b[49m\u001b[43m,\u001b[49m\u001b[43m \u001b[49m\u001b[43mvalues\u001b[49m\u001b[43m,\u001b[49m\n\u001b[1;32m    825\u001b[0m \u001b[43m                                 \u001b[49m\u001b[43mlax\u001b[49m\u001b[38;5;241;43m.\u001b[39;49m\u001b[43mscatter_add\u001b[49m\u001b[43m,\u001b[49m\n\u001b[1;32m    826\u001b[0m \u001b[43m                                 \u001b[49m\u001b[43mindices_are_sorted\u001b[49m\u001b[38;5;241;43m=\u001b[39;49m\u001b[43mindices_are_sorted\u001b[49m\u001b[43m,\u001b[49m\n\u001b[1;32m    827\u001b[0m \u001b[43m                                 \u001b[49m\u001b[43munique_indices\u001b[49m\u001b[38;5;241;43m=\u001b[39;49m\u001b[43munique_indices\u001b[49m\u001b[43m,\u001b[49m\u001b[43m \u001b[49m\u001b[43mmode\u001b[49m\u001b[38;5;241;43m=\u001b[39;49m\u001b[43mmode\u001b[49m\u001b[43m)\u001b[49m\n",
      "File \u001b[0;32m~/Documents/Python venv/Thesis/lib/python3.13/site-packages/jax/_src/ops/scatter.py:76\u001b[0m, in \u001b[0;36m_scatter_update\u001b[0;34m(x, idx, y, scatter_op, indices_are_sorted, unique_indices, mode, normalize_indices)\u001b[0m\n\u001b[1;32m     73\u001b[0m \u001b[38;5;66;03m# XLA gathers and scatters are very similar in structure; the scatter logic\u001b[39;00m\n\u001b[1;32m     74\u001b[0m \u001b[38;5;66;03m# is more or less a transpose of the gather equivalent.\u001b[39;00m\n\u001b[1;32m     75\u001b[0m treedef, static_idx, dynamic_idx \u001b[38;5;241m=\u001b[39m jnp\u001b[38;5;241m.\u001b[39m_split_index_for_jit(idx, x\u001b[38;5;241m.\u001b[39mshape)\n\u001b[0;32m---> 76\u001b[0m \u001b[38;5;28;01mreturn\u001b[39;00m \u001b[43m_scatter_impl\u001b[49m\u001b[43m(\u001b[49m\u001b[43mx\u001b[49m\u001b[43m,\u001b[49m\u001b[43m \u001b[49m\u001b[43my\u001b[49m\u001b[43m,\u001b[49m\u001b[43m \u001b[49m\u001b[43mscatter_op\u001b[49m\u001b[43m,\u001b[49m\u001b[43m \u001b[49m\u001b[43mtreedef\u001b[49m\u001b[43m,\u001b[49m\u001b[43m \u001b[49m\u001b[43mstatic_idx\u001b[49m\u001b[43m,\u001b[49m\u001b[43m \u001b[49m\u001b[43mdynamic_idx\u001b[49m\u001b[43m,\u001b[49m\n\u001b[1;32m     77\u001b[0m \u001b[43m                     \u001b[49m\u001b[43mindices_are_sorted\u001b[49m\u001b[43m,\u001b[49m\u001b[43m \u001b[49m\u001b[43munique_indices\u001b[49m\u001b[43m,\u001b[49m\u001b[43m \u001b[49m\u001b[43mmode\u001b[49m\u001b[43m,\u001b[49m\n\u001b[1;32m     78\u001b[0m \u001b[43m                     \u001b[49m\u001b[43mnormalize_indices\u001b[49m\u001b[43m)\u001b[49m\n",
      "File \u001b[0;32m~/Documents/Python venv/Thesis/lib/python3.13/site-packages/jax/_src/ops/scatter.py:100\u001b[0m, in \u001b[0;36m_scatter_impl\u001b[0;34m(x, y, scatter_op, treedef, static_idx, dynamic_idx, indices_are_sorted, unique_indices, mode, normalize_indices)\u001b[0m\n\u001b[1;32m     92\u001b[0m   warnings\u001b[38;5;241m.\u001b[39mwarn(\n\u001b[1;32m     93\u001b[0m     \u001b[38;5;124m\"\u001b[39m\u001b[38;5;124mscatter inputs have incompatible types: cannot safely cast value \u001b[39m\u001b[38;5;124m\"\u001b[39m\n\u001b[1;32m     94\u001b[0m     \u001b[38;5;124mf\u001b[39m\u001b[38;5;124m\"\u001b[39m\u001b[38;5;124mfrom dtype=\u001b[39m\u001b[38;5;132;01m{\u001b[39;00mlax\u001b[38;5;241m.\u001b[39mdtype(y)\u001b[38;5;132;01m}\u001b[39;00m\u001b[38;5;124m to dtype=\u001b[39m\u001b[38;5;132;01m{\u001b[39;00mlax\u001b[38;5;241m.\u001b[39mdtype(x)\u001b[38;5;132;01m}\u001b[39;00m\u001b[38;5;124m with \u001b[39m\u001b[38;5;124m\"\u001b[39m\n\u001b[1;32m     95\u001b[0m     \u001b[38;5;124mf\u001b[39m\u001b[38;5;124m\"\u001b[39m\u001b[38;5;124mjax_numpy_dtype_promotion=\u001b[39m\u001b[38;5;132;01m{\u001b[39;00mconfig\u001b[38;5;241m.\u001b[39mnumpy_dtype_promotion\u001b[38;5;241m.\u001b[39mvalue\u001b[38;5;132;01m!r}\u001b[39;00m\u001b[38;5;124m. \u001b[39m\u001b[38;5;124m\"\u001b[39m\n\u001b[1;32m     96\u001b[0m     \u001b[38;5;124m\"\u001b[39m\u001b[38;5;124mIn future JAX releases this will result in an error.\u001b[39m\u001b[38;5;124m\"\u001b[39m,\n\u001b[1;32m     97\u001b[0m     \u001b[38;5;167;01mFutureWarning\u001b[39;00m)\n\u001b[1;32m     99\u001b[0m idx \u001b[38;5;241m=\u001b[39m jnp\u001b[38;5;241m.\u001b[39m_merge_static_and_dynamic_indices(treedef, static_idx, dynamic_idx)\n\u001b[0;32m--> 100\u001b[0m indexer \u001b[38;5;241m=\u001b[39m \u001b[43mjnp\u001b[49m\u001b[38;5;241;43m.\u001b[39;49m\u001b[43m_index_to_gather\u001b[49m\u001b[43m(\u001b[49m\u001b[43mjnp\u001b[49m\u001b[38;5;241;43m.\u001b[39;49m\u001b[43mshape\u001b[49m\u001b[43m(\u001b[49m\u001b[43mx\u001b[49m\u001b[43m)\u001b[49m\u001b[43m,\u001b[49m\u001b[43m \u001b[49m\u001b[43midx\u001b[49m\u001b[43m,\u001b[49m\n\u001b[1;32m    101\u001b[0m \u001b[43m                               \u001b[49m\u001b[43mnormalize_indices\u001b[49m\u001b[38;5;241;43m=\u001b[39;49m\u001b[43mnormalize_indices\u001b[49m\u001b[43m)\u001b[49m\n\u001b[1;32m    103\u001b[0m \u001b[38;5;66;03m# Avoid calling scatter if the slice shape is empty, both as a fast path and\u001b[39;00m\n\u001b[1;32m    104\u001b[0m \u001b[38;5;66;03m# to handle cases like zeros(0)[array([], int32)].\u001b[39;00m\n\u001b[1;32m    105\u001b[0m \u001b[38;5;28;01mif\u001b[39;00m core\u001b[38;5;241m.\u001b[39mis_empty_shape(indexer\u001b[38;5;241m.\u001b[39mslice_shape):\n",
      "File \u001b[0;32m~/Documents/Python venv/Thesis/lib/python3.13/site-packages/jax/_src/numpy/lax_numpy.py:11711\u001b[0m, in \u001b[0;36m_index_to_gather\u001b[0;34m(x_shape, idx, normalize_indices)\u001b[0m\n\u001b[1;32m  11708\u001b[0m   last_dim \u001b[38;5;241m=\u001b[39m \u001b[38;5;28mlen\u001b[39m(gather_indices_shape)\n\u001b[1;32m  11709\u001b[0m   gather_indices_shape\u001b[38;5;241m.\u001b[39mappend(\u001b[38;5;241m1\u001b[39m)\n\u001b[1;32m  11710\u001b[0m   gather_indices_array \u001b[38;5;241m=\u001b[39m lax\u001b[38;5;241m.\u001b[39mconcatenate([\n\u001b[0;32m> 11711\u001b[0m     \u001b[43mlax\u001b[49m\u001b[38;5;241;43m.\u001b[39;49m\u001b[43mbroadcast_in_dim\u001b[49m\u001b[43m(\u001b[49m\u001b[43mg\u001b[49m\u001b[43m,\u001b[49m\u001b[43m \u001b[49m\u001b[43mgather_indices_shape\u001b[49m\u001b[43m,\u001b[49m\u001b[43m \u001b[49m\u001b[38;5;28;43mtuple\u001b[39;49m\u001b[43m(\u001b[49m\u001b[38;5;28;43mrange\u001b[39;49m\u001b[43m(\u001b[49m\u001b[43mi\u001b[49m\u001b[43m,\u001b[49m\u001b[43m \u001b[49m\u001b[43mi\u001b[49m\u001b[43m \u001b[49m\u001b[38;5;241;43m+\u001b[39;49m\u001b[43m \u001b[49m\u001b[43mg\u001b[49m\u001b[38;5;241;43m.\u001b[39;49m\u001b[43mndim\u001b[49m\u001b[43m)\u001b[49m\u001b[43m)\u001b[49m\u001b[43m)\u001b[49m\n\u001b[1;32m  11712\u001b[0m     \u001b[38;5;28;01mfor\u001b[39;00m g, i \u001b[38;5;129;01min\u001b[39;00m gather_indices],\n\u001b[1;32m  11713\u001b[0m     last_dim)\n\u001b[1;32m  11715\u001b[0m dnums \u001b[38;5;241m=\u001b[39m lax\u001b[38;5;241m.\u001b[39mGatherDimensionNumbers(\n\u001b[1;32m  11716\u001b[0m   offset_dims \u001b[38;5;241m=\u001b[39m \u001b[38;5;28mtuple\u001b[39m(offset_dims),\n\u001b[1;32m  11717\u001b[0m   collapsed_slice_dims \u001b[38;5;241m=\u001b[39m \u001b[38;5;28mtuple\u001b[39m(\u001b[38;5;28msorted\u001b[39m(collapsed_slice_dims)),\n\u001b[1;32m  11718\u001b[0m   start_index_map \u001b[38;5;241m=\u001b[39m \u001b[38;5;28mtuple\u001b[39m(start_index_map)\n\u001b[1;32m  11719\u001b[0m )\n\u001b[1;32m  11720\u001b[0m \u001b[38;5;28;01mreturn\u001b[39;00m _Indexer(\n\u001b[1;32m  11721\u001b[0m   slice_shape\u001b[38;5;241m=\u001b[39mslice_shape,\n\u001b[1;32m  11722\u001b[0m   newaxis_dims\u001b[38;5;241m=\u001b[39m\u001b[38;5;28mtuple\u001b[39m(newaxis_dims),\n\u001b[0;32m   (...)\u001b[0m\n\u001b[1;32m  11728\u001b[0m   indices_are_sorted\u001b[38;5;241m=\u001b[39madvanced_indexes \u001b[38;5;129;01mis\u001b[39;00m \u001b[38;5;28;01mNone\u001b[39;00m,\n\u001b[1;32m  11729\u001b[0m   scalar_bool_dims\u001b[38;5;241m=\u001b[39mscalar_bool_dims)\n",
      "File \u001b[0;32m~/Documents/Python venv/Thesis/lib/python3.13/site-packages/jax/_src/lax/lax.py:1185\u001b[0m, in \u001b[0;36mbroadcast_in_dim\u001b[0;34m(operand, shape, broadcast_dimensions)\u001b[0m\n\u001b[1;32m   1183\u001b[0m \u001b[38;5;28;01melse\u001b[39;00m:\n\u001b[1;32m   1184\u001b[0m   dyn_shape, static_shape \u001b[38;5;241m=\u001b[39m [], shape  \u001b[38;5;66;03m# type: ignore\u001b[39;00m\n\u001b[0;32m-> 1185\u001b[0m \u001b[38;5;28;01mreturn\u001b[39;00m \u001b[43mbroadcast_in_dim_p\u001b[49m\u001b[38;5;241;43m.\u001b[39;49m\u001b[43mbind\u001b[49m\u001b[43m(\u001b[49m\n\u001b[1;32m   1186\u001b[0m \u001b[43m    \u001b[49m\u001b[43moperand\u001b[49m\u001b[43m,\u001b[49m\u001b[43m \u001b[49m\u001b[38;5;241;43m*\u001b[39;49m\u001b[43mdyn_shape\u001b[49m\u001b[43m,\u001b[49m\u001b[43m \u001b[49m\u001b[43mshape\u001b[49m\u001b[38;5;241;43m=\u001b[39;49m\u001b[38;5;28;43mtuple\u001b[39;49m\u001b[43m(\u001b[49m\u001b[43mstatic_shape\u001b[49m\u001b[43m)\u001b[49m\u001b[43m,\u001b[49m\n\u001b[1;32m   1187\u001b[0m \u001b[43m    \u001b[49m\u001b[43mbroadcast_dimensions\u001b[49m\u001b[38;5;241;43m=\u001b[39;49m\u001b[38;5;28;43mtuple\u001b[39;49m\u001b[43m(\u001b[49m\u001b[43mbroadcast_dimensions\u001b[49m\u001b[43m)\u001b[49m\u001b[43m)\u001b[49m\n",
      "File \u001b[0;32m~/Documents/Python venv/Thesis/lib/python3.13/site-packages/jax/_src/core.py:438\u001b[0m, in \u001b[0;36mPrimitive.bind\u001b[0;34m(self, *args, **params)\u001b[0m\n\u001b[1;32m    435\u001b[0m \u001b[38;5;28;01mdef\u001b[39;00m\u001b[38;5;250m \u001b[39m\u001b[38;5;21mbind\u001b[39m(\u001b[38;5;28mself\u001b[39m, \u001b[38;5;241m*\u001b[39margs, \u001b[38;5;241m*\u001b[39m\u001b[38;5;241m*\u001b[39mparams):\n\u001b[1;32m    436\u001b[0m   \u001b[38;5;28;01massert\u001b[39;00m (\u001b[38;5;129;01mnot\u001b[39;00m config\u001b[38;5;241m.\u001b[39menable_checks\u001b[38;5;241m.\u001b[39mvalue \u001b[38;5;129;01mor\u001b[39;00m\n\u001b[1;32m    437\u001b[0m           \u001b[38;5;28mall\u001b[39m(\u001b[38;5;28misinstance\u001b[39m(arg, Tracer) \u001b[38;5;129;01mor\u001b[39;00m valid_jaxtype(arg) \u001b[38;5;28;01mfor\u001b[39;00m arg \u001b[38;5;129;01min\u001b[39;00m args)), args\n\u001b[0;32m--> 438\u001b[0m   \u001b[38;5;28;01mreturn\u001b[39;00m \u001b[38;5;28;43mself\u001b[39;49m\u001b[38;5;241;43m.\u001b[39;49m\u001b[43mbind_with_trace\u001b[49m\u001b[43m(\u001b[49m\u001b[43mfind_top_trace\u001b[49m\u001b[43m(\u001b[49m\u001b[43margs\u001b[49m\u001b[43m)\u001b[49m\u001b[43m,\u001b[49m\u001b[43m \u001b[49m\u001b[43margs\u001b[49m\u001b[43m,\u001b[49m\u001b[43m \u001b[49m\u001b[43mparams\u001b[49m\u001b[43m)\u001b[49m\n",
      "File \u001b[0;32m~/Documents/Python venv/Thesis/lib/python3.13/site-packages/jax/_src/core.py:442\u001b[0m, in \u001b[0;36mPrimitive.bind_with_trace\u001b[0;34m(self, trace, args, params)\u001b[0m\n\u001b[1;32m    440\u001b[0m \u001b[38;5;28;01mdef\u001b[39;00m\u001b[38;5;250m \u001b[39m\u001b[38;5;21mbind_with_trace\u001b[39m(\u001b[38;5;28mself\u001b[39m, trace, args, params):\n\u001b[1;32m    441\u001b[0m   \u001b[38;5;28;01mwith\u001b[39;00m pop_level(trace\u001b[38;5;241m.\u001b[39mlevel):\n\u001b[0;32m--> 442\u001b[0m     out \u001b[38;5;241m=\u001b[39m \u001b[43mtrace\u001b[49m\u001b[38;5;241;43m.\u001b[39;49m\u001b[43mprocess_primitive\u001b[49m\u001b[43m(\u001b[49m\u001b[38;5;28;43mself\u001b[39;49m\u001b[43m,\u001b[49m\u001b[43m \u001b[49m\u001b[38;5;28;43mmap\u001b[39;49m\u001b[43m(\u001b[49m\u001b[43mtrace\u001b[49m\u001b[38;5;241;43m.\u001b[39;49m\u001b[43mfull_raise\u001b[49m\u001b[43m,\u001b[49m\u001b[43m \u001b[49m\u001b[43margs\u001b[49m\u001b[43m)\u001b[49m\u001b[43m,\u001b[49m\u001b[43m \u001b[49m\u001b[43mparams\u001b[49m\u001b[43m)\u001b[49m\n\u001b[1;32m    443\u001b[0m   \u001b[38;5;28;01mreturn\u001b[39;00m \u001b[38;5;28mmap\u001b[39m(full_lower, out) \u001b[38;5;28;01mif\u001b[39;00m \u001b[38;5;28mself\u001b[39m\u001b[38;5;241m.\u001b[39mmultiple_results \u001b[38;5;28;01melse\u001b[39;00m full_lower(out)\n",
      "File \u001b[0;32m~/Documents/Python venv/Thesis/lib/python3.13/site-packages/jax/_src/core.py:955\u001b[0m, in \u001b[0;36mEvalTrace.process_primitive\u001b[0;34m(self, primitive, tracers, params)\u001b[0m\n\u001b[1;32m    953\u001b[0m   \u001b[38;5;28;01mreturn\u001b[39;00m call_impl_with_key_reuse_checks(primitive, primitive\u001b[38;5;241m.\u001b[39mimpl, \u001b[38;5;241m*\u001b[39mtracers, \u001b[38;5;241m*\u001b[39m\u001b[38;5;241m*\u001b[39mparams)\n\u001b[1;32m    954\u001b[0m \u001b[38;5;28;01melse\u001b[39;00m:\n\u001b[0;32m--> 955\u001b[0m   \u001b[38;5;28;01mreturn\u001b[39;00m \u001b[43mprimitive\u001b[49m\u001b[38;5;241;43m.\u001b[39;49m\u001b[43mimpl\u001b[49m\u001b[43m(\u001b[49m\u001b[38;5;241;43m*\u001b[39;49m\u001b[43mtracers\u001b[49m\u001b[43m,\u001b[49m\u001b[43m \u001b[49m\u001b[38;5;241;43m*\u001b[39;49m\u001b[38;5;241;43m*\u001b[39;49m\u001b[43mparams\u001b[49m\u001b[43m)\u001b[49m\n",
      "File \u001b[0;32m~/Documents/Python venv/Thesis/lib/python3.13/site-packages/jax/_src/dispatch.py:91\u001b[0m, in \u001b[0;36mapply_primitive\u001b[0;34m(prim, *args, **params)\u001b[0m\n\u001b[1;32m     89\u001b[0m prev \u001b[38;5;241m=\u001b[39m lib\u001b[38;5;241m.\u001b[39mjax_jit\u001b[38;5;241m.\u001b[39mswap_thread_local_state_disable_jit(\u001b[38;5;28;01mFalse\u001b[39;00m)\n\u001b[1;32m     90\u001b[0m \u001b[38;5;28;01mtry\u001b[39;00m:\n\u001b[0;32m---> 91\u001b[0m   outs \u001b[38;5;241m=\u001b[39m \u001b[43mfun\u001b[49m\u001b[43m(\u001b[49m\u001b[38;5;241;43m*\u001b[39;49m\u001b[43margs\u001b[49m\u001b[43m)\u001b[49m\n\u001b[1;32m     92\u001b[0m \u001b[38;5;28;01mfinally\u001b[39;00m:\n\u001b[1;32m     93\u001b[0m   lib\u001b[38;5;241m.\u001b[39mjax_jit\u001b[38;5;241m.\u001b[39mswap_thread_local_state_disable_jit(prev)\n",
      "\u001b[0;31mKeyboardInterrupt\u001b[0m: "
     ]
    }
   ],
   "source": [
    "R_deformation_cnng_7, R_ler_cnng_7, R_history_cnng_7 = random_search_cnng(\n",
    "    random.key(42),\n",
    "    code,\n",
    "    N=100,\n",
    "    decoder_model=decoder_model,\n",
    "    model_params=model_params,\n",
    "    error_probs=error_probs,\n",
    "    batch_count=50,\n",
    "    batch_size=200_000,\n",
    ")\n",
    "print(f\"Solution \\t\\t Deformation: {R_deformation_cnng_7} \\t Error Rate: {R_ler_cnng_7:.2E}\\t\\t\", end=\"\\n\")"
   ]
  },
  {
   "cell_type": "code",
   "execution_count": null,
   "id": "71e8aa21",
   "metadata": {},
   "outputs": [],
   "source": [
    "HC_deformation_cnng_7, HC_ler_cnng_7, HC_history_cnng_7 = hill_climb_search_cnng(\n",
    "    random.key(42),\n",
    "    code,\n",
    "    N=100,\n",
    "    decoder_model=decoder_model,\n",
    "    model_params=model_params,\n",
    "    error_probs=error_probs,\n",
    "    batch_count=100,\n",
    "    batch_size=100_000,\n",
    ")\n",
    "print(f\"Solution \\t\\t Deformation: {HC_deformation_cnng_7} \\t Error Rate: {HC_ler_cnng_7:.2E}\\t\\t\", end=\"\\n\")"
   ]
  },
  {
   "cell_type": "markdown",
   "id": "c3d8dfc2",
   "metadata": {},
   "source": [
    "# Results"
   ]
  },
  {
   "cell_type": "code",
   "execution_count": null,
   "id": "76e87cc6",
   "metadata": {},
   "outputs": [
    {
     "name": "stderr",
     "output_type": "stream",
     "text": [
      "The PostScript backend does not support transparency; partially transparent artists will be rendered opaque.\n"
     ]
    },
    {
     "data": {
      "image/png": "[encoded data removed]",
      "text/plain": [
       "<Figure size 500x200 with 2 Axes>"
      ]
     },
     "metadata": {},
     "output_type": "display_data"
    }
   ],
   "source": [
    "import matplotlib.pyplot as plt\n",
    "\n",
    "# Plot\n",
    "fig, (ax1, ax2) = plt.subplots(1, 2, figsize=(5, 2), sharey=True)\n",
    "\n",
    "ax1.axhline(y=2.5E-5, color='k', linestyle='--', label='Optimal')\n",
    "ax1.plot(jnp.arange(R_history_pml_3.shape[0])+1, R_history_pml_3, linestyle='-', color='r', label='Random search')\n",
    "ax1.plot(jnp.arange(HC_history_pml_3.shape[0])+1, HC_history_pml_3, linestyle='-', color='b', label='Hill climb')\n",
    "ax1.set_xlabel('Iteration')\n",
    "ax1.set_ylabel('logical error rate')\n",
    "ax1.set_title('PML decoder')\n",
    "ax1.set_yscale('log')  # Log scale for better visualization\n",
    "ax1.grid(True, which=\"both\", linestyle='--', linewidth=0.5)\n",
    "ax1.set_xlim(0, 100)\n",
    "\n",
    "ax2.axhline(y=2.5E-5, color='k', linestyle='--', label='Optimal')\n",
    "ax2.plot(jnp.arange(R_history_cnng_3.shape[0])+1, R_history_cnng_3, linestyle='-', color='r', label='Random search')\n",
    "ax2.plot(jnp.arange(HC_history_cnng_3.shape[0])+1, HC_history_cnng_3, linestyle='-', color='b', label='Hill climb')\n",
    "ax2.set_xlabel('Iteration')\n",
    "ax2.set_title('CNN-G decoder')\n",
    "ax2.set_yscale('log')  # Log scale for better visualization\n",
    "ax2.grid(True, which=\"both\", linestyle='--', linewidth=0.5)\n",
    "ax2.set_xlim(0, 100)\n",
    "\n",
    "# Add a common legend below the subplots\n",
    "handles, labels = ax1.get_legend_handles_labels()\n",
    "fig.legend(handles, labels, loc='lower center', ncol=3, bbox_to_anchor=(0.5, 1))\n",
    "\n",
    "plt.savefig(\"figs/hill_climb_vs_random_3.eps\", dpi=300, bbox_inches='tight')\n",
    "plt.savefig(\"figs/hill_climb_vs_random_3.pdf\", dpi=300, bbox_inches='tight')\n",
    "plt.savefig(\"figs/hill_climb_vs_random_3.png\", dpi=300, bbox_inches='tight')\n",
    "\n",
    "plt.show()"
   ]
  }
 ],
 "metadata": {
  "kernelspec": {
   "display_name": "Thesis",
   "language": "python",
   "name": "python3"
  },
  "language_info": {
   "codemirror_mode": {
    "name": "ipython",
    "version": 3
   },
   "file_extension": ".py",
   "mimetype": "text/x-python",
   "name": "python",
   "nbconvert_exporter": "python",
   "pygments_lexer": "ipython3",
   "version": "3.13.3"
  }
 },
 "nbformat": 4,
 "nbformat_minor": 5
}
