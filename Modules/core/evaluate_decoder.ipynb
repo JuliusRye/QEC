{
 "cells": [
  {
   "cell_type": "code",
   "execution_count": 1,
   "id": "7b323741",
   "metadata": {},
   "outputs": [],
   "source": [
    "from evaluate_decoder import *\n",
    "\n",
    "from quantum_error_correction_code import SurfaceCode\n",
    "from neural_network import CNNDual, CNNDecoder, load_params\n",
    "\n",
    "from jax import random\n",
    "import jax.numpy as jnp\n",
    "\n",
    "key = random.key(42)"
   ]
  },
  {
   "cell_type": "code",
   "execution_count": 2,
   "id": "4d0a27e1",
   "metadata": {},
   "outputs": [
    {
     "data": {
      "image/png": "[encoded data removed]",
      "text/plain": [
       "<Figure size 640x480 with 1 Axes>"
      ]
     },
     "metadata": {},
     "output_type": "display_data"
    }
   ],
   "source": [
    "code = SurfaceCode(3)\n",
    "\n",
    "# deformation, key = code.random_deformation(key, allowed_deformations=jnp.array([0]))\n",
    "deformation = jnp.array([2,0,2,3,2,3,2,0,2])\n",
    "\n",
    "parity_info = code.deformation_parity_info(deformation)\n",
    "\n",
    "code.show(parity_info)"
   ]
  },
  {
   "cell_type": "code",
   "execution_count": 3,
   "id": "b1942acf",
   "metadata": {},
   "outputs": [],
   "source": [
    "batch_size = 32\n",
    "error_probs = jnp.array([1E-5, 1E-5, 1E-2])"
   ]
  },
  {
   "cell_type": "markdown",
   "id": "c498f452",
   "metadata": {},
   "source": [
    "# Test data function"
   ]
  },
  {
   "cell_type": "code",
   "execution_count": 4,
   "id": "8841d788",
   "metadata": {},
   "outputs": [
    {
     "data": {
      "text/plain": [
       "(32, 4, 4)"
      ]
     },
     "execution_count": 4,
     "metadata": {},
     "output_type": "execute_result"
    }
   ],
   "source": [
    "syndromes, logicals = data_batch(\n",
    "    key,\n",
    "    code,\n",
    "    batch_size,\n",
    "    parity_info,\n",
    "    error_probs,\n",
    "    as_images=True\n",
    ")\n",
    "syndromes.shape"
   ]
  },
  {
   "cell_type": "markdown",
   "id": "444ee647",
   "metadata": {},
   "source": [
    "# Test evaluation function on the PML decoder"
   ]
  },
  {
   "cell_type": "code",
   "execution_count": 5,
   "id": "3f6ea033",
   "metadata": {},
   "outputs": [
    {
     "data": {
      "text/plain": [
       "(Array(2.6400001e-05, dtype=float32),\n",
       " Array([[9145120,      11,       5,      76],\n",
       "        [     15,  194428,      54,       2],\n",
       "        [     14,      75,  194786,       5],\n",
       "        [      0,       4,       3,  465402]], dtype=int32))"
      ]
     },
     "execution_count": 5,
     "metadata": {},
     "output_type": "execute_result"
    }
   ],
   "source": [
    "evaluate_pml_decoder(\n",
    "    key,\n",
    "    code,\n",
    "    deformation,\n",
    "    batch_count=10,\n",
    "    batch_size=1_000_000,\n",
    "    error_probs=error_probs\n",
    ")"
   ]
  },
  {
   "cell_type": "code",
   "execution_count": 6,
   "id": "ef18a206",
   "metadata": {},
   "outputs": [
    {
     "data": {
      "text/plain": [
       "(Array(2.5510788e-05, dtype=float32),\n",
       " Array([[9.1449153e-01, 5.9835588e-07, 5.9743326e-07, 7.7841241e-06],\n",
       "        [1.1483708e-06, 1.9465834e-02, 5.8745463e-06, 4.5036592e-07],\n",
       "        [1.1502543e-06, 5.8764472e-06, 1.9465841e-02, 4.5040474e-07],\n",
       "        [2.2048712e-07, 5.8858768e-07, 5.8950957e-07, 4.6552382e-02]],      dtype=float32))"
      ]
     },
     "execution_count": 6,
     "metadata": {},
     "output_type": "execute_result"
    }
   ],
   "source": [
    "evaluate_pml_decoder(\n",
    "    key,\n",
    "    code,\n",
    "    deformation,\n",
    "    batch_count=10,\n",
    "    batch_size=1_000_000,\n",
    "    error_probs=error_probs,\n",
    "    exact=True\n",
    ")"
   ]
  },
  {
   "cell_type": "markdown",
   "id": "a2535317",
   "metadata": {},
   "source": [
    "# Test evaluation function on the MWPM decoder"
   ]
  },
  {
   "cell_type": "code",
   "execution_count": 6,
   "id": "c9843b2b",
   "metadata": {},
   "outputs": [
    {
     "data": {
      "text/plain": [
       "(Array(0.0017514, dtype=float32),\n",
       " Array([[9135604,      79,      75,      64],\n",
       "        [   4747,  190640,      43,      54],\n",
       "        [   4763,      60,  190949,      74],\n",
       "        [     35,    3739,    3781,  465293]], dtype=int32))"
      ]
     },
     "execution_count": 6,
     "metadata": {},
     "output_type": "execute_result"
    }
   ],
   "source": [
    "evaluate_mwpm_decoder(\n",
    "    key,\n",
    "    code,\n",
    "    deformation,\n",
    "    batch_count=10,\n",
    "    batch_size=1_000_000,\n",
    "    error_probs=error_probs\n",
    ")"
   ]
  },
  {
   "cell_type": "markdown",
   "id": "e1570b9b",
   "metadata": {},
   "source": [
    "# Test evaluation function on a mCNN decoder"
   ]
  },
  {
   "cell_type": "code",
   "execution_count": 7,
   "id": "36de6832",
   "metadata": {},
   "outputs": [
    {
     "data": {
      "text/plain": [
       "{'CNN_input_1': [(1, 4, 4), (8, 3, 3)],\n",
       " 'CNN_input_2': [(1, 3, 3), (8, 3, 3)],\n",
       " 'CNN_stage_2': [(8, 3, 3), (8, 2, 2)],\n",
       " 'MLP_stage_3': [32, 50, 2]}"
      ]
     },
     "execution_count": 7,
     "metadata": {},
     "output_type": "execute_result"
    }
   ],
   "source": [
    "settings, model_params = load_params(\"../data/CNN-G-3.json\")\n",
    "L = settings[\"CODE_DISTANCE\"]\n",
    "error_probs = settings[\"ERROR_PROBS\"]\n",
    "\n",
    "decoder_model = CNNDual(\n",
    "    input_shape_1=(1, L+1, L+1),\n",
    "    input_shape_2=(1, L, L),\n",
    "    conv_layers_input_1=[tuple(int(v) for v in vals) for vals in settings[\"CONV_LAYERS_INPUT_1\"]],\n",
    "    conv_layers_input_2=[tuple(int(v) for v in vals) for vals in settings[\"CONV_LAYERS_INPUT_2\"]],\n",
    "    conv_layers_stage_2=[tuple(int(v) for v in vals) for vals in settings[\"CONV_LAYERS_STAGE_2\"]],\n",
    "    fc_layers=[int(v) for v in settings[\"FC_LAYERS\"]],\n",
    ")\n",
    "decoder_model.layer_sizes"
   ]
  },
  {
   "cell_type": "code",
   "execution_count": 8,
   "id": "1f06a460",
   "metadata": {},
   "outputs": [
    {
     "data": {
      "text/plain": [
       "(Array(0.0001556, dtype=float32),\n",
       " Array([[9146704,     444,     268,     114],\n",
       "        [     62,  193539,      65,     214],\n",
       "        [     78,     112,  194086,     128],\n",
       "        [     10,      40,      21,  464115]], dtype=int32))"
      ]
     },
     "execution_count": 8,
     "metadata": {},
     "output_type": "execute_result"
    }
   ],
   "source": [
    "evaluate_mcnn_decoder(\n",
    "    key,\n",
    "    decoder_model,\n",
    "    model_params,\n",
    "    code,\n",
    "    deformation,\n",
    "    batch_count=10,\n",
    "    batch_size=1_000_000,\n",
    "    error_probs=error_probs,\n",
    ")"
   ]
  },
  {
   "cell_type": "markdown",
   "id": "a7611fe2",
   "metadata": {},
   "source": [
    "# Test evaluation function on a CNN decoder"
   ]
  },
  {
   "cell_type": "code",
   "execution_count": 12,
   "id": "4c689872",
   "metadata": {},
   "outputs": [
    {
     "data": {
      "text/plain": [
       "{'CNN': [(1, 4, 4), (8, 3, 3), (8, 2, 2)], 'MLP': [32, 50, 2]}"
      ]
     },
     "execution_count": 12,
     "metadata": {},
     "output_type": "execute_result"
    }
   ],
   "source": [
    "settings, model_params = load_params(\"../data/CNN-3-202323202.json\")\n",
    "# settings, model_params = load_params(\"../data/CNN-3-000000000.json\")\n",
    "L = settings[\"CODE_DISTANCE\"]\n",
    "error_probs = settings[\"ERROR_PROBS\"]\n",
    "\n",
    "decoder_model = CNNDecoder(\n",
    "    input_shape = (1, L+1, L+1),\n",
    "    conv_layers = [tuple(int(v) for v in vals) for vals in settings[\"CONV_LAYERS\"]],\n",
    "    fc_layers = [int(v) for v in settings[\"FC_LAYERS\"]],\n",
    ")\n",
    "decoder_model.layer_sizes"
   ]
  },
  {
   "cell_type": "code",
   "execution_count": 13,
   "id": "5852197b",
   "metadata": {},
   "outputs": [
    {
     "data": {
      "text/plain": [
       "(Array(2.9599998e-05, dtype=float32),\n",
       " Array([[9146810,      11,      10,      73],\n",
       "        [     28,  194042,      56,       6],\n",
       "        [     16,      75,  194362,       2],\n",
       "        [      0,       7,      12,  464490]], dtype=int32))"
      ]
     },
     "execution_count": 13,
     "metadata": {},
     "output_type": "execute_result"
    }
   ],
   "source": [
    "evaluate_cnn_decoder(\n",
    "    key,\n",
    "    decoder_model,\n",
    "    model_params,\n",
    "    code,\n",
    "    deformation,\n",
    "    batch_count=10,\n",
    "    batch_size=1_000_000,\n",
    "    error_probs=error_probs,\n",
    ")"
   ]
  }
 ],
 "metadata": {
  "kernelspec": {
   "display_name": "Thesis",
   "language": "python",
   "name": "python3"
  },
  "language_info": {
   "codemirror_mode": {
    "name": "ipython",
    "version": 3
   },
   "file_extension": ".py",
   "mimetype": "text/x-python",
   "name": "python",
   "nbconvert_exporter": "python",
   "pygments_lexer": "ipython3",
   "version": "3.13.3"
  }
 },
 "nbformat": 4,
 "nbformat_minor": 5
}
