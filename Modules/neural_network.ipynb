{
 "cells": [
  {
   "cell_type": "code",
   "execution_count": 1,
   "metadata": {},
   "outputs": [],
   "source": [
    "from neural_network import MLP, CNN\n",
    "from jax import random\n",
    "import jax.numpy as jnp\n",
    "\n",
    "key = random.key(42)"
   ]
  },
  {
   "cell_type": "markdown",
   "metadata": {},
   "source": [
    "# Multi Level Perceptron (MLP)"
   ]
  },
  {
   "cell_type": "code",
   "execution_count": 2,
   "metadata": {},
   "outputs": [
    {
     "name": "stdout",
     "output_type": "stream",
     "text": [
      "Input vector of size 4\n",
      "to vector of size 6\n",
      "to vector of size 4\n",
      "to vector of size 5\n"
     ]
    },
    {
     "data": {
      "text/plain": [
       "Array([[ 1.7111232 ,  3.373485  ,  0.6726889 , -0.26877403,  0.1448667 ],\n",
       "       [ 1.7924013 ,  3.6350818 ,  0.7425479 , -0.36859792,  0.00809073]],      dtype=float32)"
      ]
     },
     "execution_count": 2,
     "metadata": {},
     "output_type": "execute_result"
    }
   ],
   "source": [
    "model = MLP(layer_sizes=[4,6,4,5])\n",
    "\n",
    "subkey, key = random.split(key)\n",
    "params = model.init(subkey)\n",
    "\n",
    "model.apply(params, jnp.array([[2.2,5.1,1.6,6.2],[2.2,5.5,1.6,6.2]]))"
   ]
  },
  {
   "cell_type": "markdown",
   "metadata": {},
   "source": [
    "# Convolutional Neural Netwrok (CNN)"
   ]
  },
  {
   "cell_type": "code",
   "execution_count": 3,
   "metadata": {},
   "outputs": [],
   "source": [
    "import matplotlib.pyplot as plt\n",
    "\n",
    "def show_img(\n",
    "    img: jnp.ndarray, # shape = (num_filters, in_channels, kernel_size, kernel_size)\n",
    "):\n",
    "    num_filters, in_channels, kernel_height, kernel_width = img.shape\n",
    "    fig, ax = plt.subplots(nrows=num_filters, ncols=in_channels, sharex=True, sharey=True)\n",
    "    if num_filters == 1:\n",
    "        ax = [ax]\n",
    "    if in_channels == 1:\n",
    "        ax = [[a] for a in ax]\n",
    "    for row in range(num_filters):\n",
    "        for col in range(in_channels):\n",
    "            m = ax[row][col].imshow(img[row,col])\n",
    "    plt.show()"
   ]
  },
  {
   "cell_type": "code",
   "execution_count": 4,
   "metadata": {},
   "outputs": [
    {
     "name": "stdout",
     "output_type": "stream",
     "text": [
      "Input image of size 5 by 5 with 3 channels\n",
      "to mage of size 3 by 3 with 1 channels\n",
      "reshaped to vector of size 9\n",
      "to vector of size 5\n",
      "to vector of size 1\n"
     ]
    },
    {
     "data": {
      "image/png": "[encoded data removed]",
      "text/plain": [
       "<Figure size 640x480 with 15 Axes>"
      ]
     },
     "metadata": {},
     "output_type": "display_data"
    },
    {
     "data": {
      "text/plain": [
       "Array([[-1.7399174],\n",
       "       [-1.8115835],\n",
       "       [-2.325652 ],\n",
       "       [-2.142899 ],\n",
       "       [-2.3458943]], dtype=float32)"
      ]
     },
     "execution_count": 4,
     "metadata": {},
     "output_type": "execute_result"
    }
   ],
   "source": [
    "model = CNN(input_shape=(3,5,5), conv_layers=[(1,3,1)], fc_layers=[5,1])\n",
    "\n",
    "subkey, key = random.split(key)\n",
    "params = model.init(subkey)\n",
    "\n",
    "batch_size = 5\n",
    "channels = 3\n",
    "img = random.uniform(subkey, shape=(batch_size, channels, 5, 5))\n",
    "show_img(img)\n",
    "\n",
    "model.apply(params, img)"
   ]
  }
 ],
 "metadata": {
  "kernelspec": {
   "display_name": "Thesis",
   "language": "python",
   "name": "python3"
  },
  "language_info": {
   "codemirror_mode": {
    "name": "ipython",
    "version": 3
   },
   "file_extension": ".py",
   "mimetype": "text/x-python",
   "name": "python",
   "nbconvert_exporter": "python",
   "pygments_lexer": "ipython3",
   "version": "3.13.1"
  }
 },
 "nbformat": 4,
 "nbformat_minor": 2
}
