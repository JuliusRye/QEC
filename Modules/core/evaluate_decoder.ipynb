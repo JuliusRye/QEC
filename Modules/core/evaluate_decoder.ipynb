{
 "cells": [
  {
   "cell_type": "code",
   "execution_count": 1,
   "id": "7b323741",
   "metadata": {},
   "outputs": [],
   "source": [
    "from evaluate_decoder import *\n",
    "\n",
    "from quantum_error_correction_code import SurfaceCode\n",
    "from neural_network import CNNDual, CNNDecoder, load_params\n",
    "\n",
    "from jax import random\n",
    "import jax.numpy as jnp\n",
    "\n",
    "key = random.key(42)"
   ]
  },
  {
   "cell_type": "code",
   "execution_count": 2,
   "id": "4d0a27e1",
   "metadata": {},
   "outputs": [
    {
     "data": {
      "image/png": "[encoded data removed]",
      "text/plain": [
       "<Figure size 640x480 with 1 Axes>"
      ]
     },
     "metadata": {},
     "output_type": "display_data"
    }
   ],
   "source": [
    "code = SurfaceCode(3)\n",
    "\n",
    "deformation, key = code.random_deformation(key, allowed_deformations=jnp.array([0]))\n",
    "\n",
    "parity_info = code.deformation_parity_info(deformation)\n",
    "\n",
    "deformation_image = code.deformation_image(deformation)\n",
    "\n",
    "code.show(parity_info)"
   ]
  },
  {
   "cell_type": "code",
   "execution_count": 3,
   "id": "b1942acf",
   "metadata": {},
   "outputs": [],
   "source": [
    "batch_size = 32\n",
    "error_probs = jnp.array([1E-5, 1E-5, 1E-2])"
   ]
  },
  {
   "cell_type": "markdown",
   "id": "c498f452",
   "metadata": {},
   "source": [
    "# Test data function"
   ]
  },
  {
   "cell_type": "code",
   "execution_count": 4,
   "id": "8841d788",
   "metadata": {},
   "outputs": [
    {
     "data": {
      "text/plain": [
       "(32, 4, 4)"
      ]
     },
     "execution_count": 4,
     "metadata": {},
     "output_type": "execute_result"
    }
   ],
   "source": [
    "syndromes, logicals = data_batch(\n",
    "    key,\n",
    "    code,\n",
    "    batch_size,\n",
    "    parity_info,\n",
    "    error_probs,\n",
    "    as_images=True\n",
    ")\n",
    "syndromes.shape"
   ]
  },
  {
   "cell_type": "markdown",
   "id": "444ee647",
   "metadata": {},
   "source": [
    "# Test evaluation function on the PML decoder"
   ]
  },
  {
   "cell_type": "code",
   "execution_count": 5,
   "id": "3f6ea033",
   "metadata": {},
   "outputs": [
    {
     "data": {
      "text/plain": [
       "(Array(0.0017228, dtype=float32),\n",
       " Array([[9151512,     526,       0,       0],\n",
       "        [  16670,  829457,       0,       0],\n",
       "        [      1,       0,     875,      10],\n",
       "        [      0,       0,      21,     928]], dtype=int32))"
      ]
     },
     "execution_count": 5,
     "metadata": {},
     "output_type": "execute_result"
    }
   ],
   "source": [
    "evaluate_pml_decoder(\n",
    "    key,\n",
    "    code,\n",
    "    deformation,\n",
    "    batch_count=10,\n",
    "    batch_size=1_000_000,\n",
    "    error_probs=error_probs\n",
    ")"
   ]
  },
  {
   "cell_type": "markdown",
   "id": "a2535317",
   "metadata": {},
   "source": [
    "# Test evaluation function on the MWPM decoder"
   ]
  },
  {
   "cell_type": "code",
   "execution_count": 6,
   "id": "c9843b2b",
   "metadata": {},
   "outputs": [
    {
     "data": {
      "text/plain": [
       "(Array(0.0017236, dtype=float32),\n",
       " Array([[9151512,     526,       0,       0],\n",
       "        [  16670,  829457,       0,       0],\n",
       "        [      1,       0,     858,       1],\n",
       "        [      0,       0,      38,     937]], dtype=int32))"
      ]
     },
     "execution_count": 6,
     "metadata": {},
     "output_type": "execute_result"
    }
   ],
   "source": [
    "evaluate_mwpm_decoder(\n",
    "    key,\n",
    "    code,\n",
    "    deformation,\n",
    "    batch_count=10,\n",
    "    batch_size=1_000_000,\n",
    "    error_probs=error_probs\n",
    ")"
   ]
  },
  {
   "cell_type": "markdown",
   "id": "e1570b9b",
   "metadata": {},
   "source": [
    "# Test evaluation function on a mCNN decoder"
   ]
  },
  {
   "cell_type": "code",
   "execution_count": 7,
   "id": "36de6832",
   "metadata": {},
   "outputs": [
    {
     "data": {
      "text/plain": [
       "{'CNN_input_1': [(1, 4, 4), (8, 3, 3)],\n",
       " 'CNN_input_2': [(1, 3, 3), (8, 3, 3)],\n",
       " 'CNN_stage_2': [(8, 3, 3), (8, 2, 2)],\n",
       " 'MLP_stage_3': [32, 50, 2]}"
      ]
     },
     "execution_count": 7,
     "metadata": {},
     "output_type": "execute_result"
    }
   ],
   "source": [
    "settings, model_params = load_params(\"../data/CNN-G-3.json\")\n",
    "L = settings[\"CODE_DISTANCE\"]\n",
    "error_probs = settings[\"ERROR_PROBS\"]\n",
    "\n",
    "decoder_model = CNNDual(\n",
    "    input_shape_1=(1, L+1, L+1),\n",
    "    input_shape_2=(1, L, L),\n",
    "    conv_layers_input_1=[tuple(int(v) for v in vals) for vals in settings[\"CONV_LAYERS_INPUT_1\"]],\n",
    "    conv_layers_input_2=[tuple(int(v) for v in vals) for vals in settings[\"CONV_LAYERS_INPUT_2\"]],\n",
    "    conv_layers_stage_2=[tuple(int(v) for v in vals) for vals in settings[\"CONV_LAYERS_STAGE_2\"]],\n",
    "    fc_layers=[int(v) for v in settings[\"FC_LAYERS\"]],\n",
    ")\n",
    "decoder_model.layer_sizes"
   ]
  },
  {
   "cell_type": "code",
   "execution_count": 8,
   "id": "1f06a460",
   "metadata": {},
   "outputs": [
    {
     "data": {
      "text/plain": [
       "(Array(0.001765, dtype=float32),\n",
       " Array([[9153124,     524,     369,       0],\n",
       "        [  16601,  827917,       0,       6],\n",
       "        [      0,       0,     495,     118],\n",
       "        [      0,       0,      32,     814]], dtype=int32))"
      ]
     },
     "execution_count": 8,
     "metadata": {},
     "output_type": "execute_result"
    }
   ],
   "source": [
    "evaluate_cnn_decoder(\n",
    "    key,\n",
    "    decoder_model,\n",
    "    model_params,\n",
    "    code,\n",
    "    deformation,\n",
    "    batch_count=10,\n",
    "    batch_size=1_000_000,\n",
    "    error_probs=error_probs,\n",
    "    deformation_image=deformation_image,\n",
    ")"
   ]
  },
  {
   "cell_type": "markdown",
   "id": "a7611fe2",
   "metadata": {},
   "source": [
    "# Test evaluation function on a CNN decoder"
   ]
  },
  {
   "cell_type": "code",
   "execution_count": 9,
   "id": "4c689872",
   "metadata": {},
   "outputs": [
    {
     "data": {
      "text/plain": [
       "{'CNN': [(1, 4, 4), (8, 3, 3), (8, 2, 2)], 'MLP': [32, 50, 2]}"
      ]
     },
     "execution_count": 9,
     "metadata": {},
     "output_type": "execute_result"
    }
   ],
   "source": [
    "settings, model_params = load_params(\"../data/CNN-3-000000000.json\")\n",
    "L = settings[\"CODE_DISTANCE\"]\n",
    "error_probs = settings[\"ERROR_PROBS\"]\n",
    "\n",
    "decoder_model = CNNDecoder(\n",
    "    input_shape = (1, L+1, L+1),\n",
    "    conv_layers = [tuple(int(v) for v in vals) for vals in settings[\"CONV_LAYERS\"]],\n",
    "    fc_layers = [int(v) for v in settings[\"FC_LAYERS\"]],\n",
    ")\n",
    "decoder_model.layer_sizes"
   ]
  },
  {
   "cell_type": "code",
   "execution_count": 10,
   "id": "5852197b",
   "metadata": {},
   "outputs": [
    {
     "data": {
      "text/plain": [
       "(Array(0.0017276, dtype=float32),\n",
       " Array([[9153123,     524,       3,       2],\n",
       "        [  16601,  827917,       4,       4],\n",
       "        [      1,       0,     852,     100],\n",
       "        [      0,       0,      37,     832]], dtype=int32))"
      ]
     },
     "execution_count": 10,
     "metadata": {},
     "output_type": "execute_result"
    }
   ],
   "source": [
    "evaluate_cnn_decoder(\n",
    "    key,\n",
    "    decoder_model,\n",
    "    model_params,\n",
    "    code,\n",
    "    deformation,\n",
    "    batch_count=10,\n",
    "    batch_size=1_000_000,\n",
    "    error_probs=error_probs,\n",
    ")"
   ]
  }
 ],
 "metadata": {
  "kernelspec": {
   "display_name": "Thesis",
   "language": "python",
   "name": "python3"
  },
  "language_info": {
   "codemirror_mode": {
    "name": "ipython",
    "version": 3
   },
   "file_extension": ".py",
   "mimetype": "text/x-python",
   "name": "python",
   "nbconvert_exporter": "python",
   "pygments_lexer": "ipython3",
   "version": "3.13.3"
  }
 },
 "nbformat": 4,
 "nbformat_minor": 5
}
